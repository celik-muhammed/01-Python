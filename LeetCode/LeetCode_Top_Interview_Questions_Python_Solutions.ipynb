{
 "cells": [
  {
   "attachments": {},
   "cell_type": "markdown",
   "metadata": {},
   "source": [
    "### 1. Two Sum"
   ]
  },
  {
   "cell_type": "code",
   "execution_count": null,
   "metadata": {},
   "outputs": [],
   "source": [
    "class Solution:\n",
    "    def twoSum(self, nums: List[int], target: int) -> List[int]:\n",
    "        nums2 = nums.copy()\n",
    "        for i in nums:\n",
    "            nums2.remove(i)\n",
    "            for j in nums2:\n",
    "                if i+j == target:\n",
    "                    x = nums.index(i)\n",
    "                    y = nums.index(j, x+1)\n",
    "                    return [x, y]"
   ]
  },
  {
   "attachments": {},
   "cell_type": "markdown",
   "metadata": {},
   "source": [
    "### 2. Add Two Numbers"
   ]
  },
  {
   "cell_type": "code",
   "execution_count": null,
   "metadata": {},
   "outputs": [],
   "source": [
    "# Definition for singly-linked list.\n",
    "# class ListNode:\n",
    "#     def __init__(self, val=0, next=None):\n",
    "#         self.val = val\n",
    "#         self.next = next\n",
    "\n",
    "class Solution:\n",
    "    def addTwoNumbers(self, l1: Optional[ListNode], l2: Optional[ListNode]) -> Optional[ListNode]:\n",
    "        head  = None\n",
    "        temp  = None\n",
    "        carry  = 0\n",
    "\n",
    "        while l1 is not None or l2 is not None:\n",
    "\n",
    "            sum = carry\n",
    "\n",
    "            if l1 is not None:\n",
    "                sum += l1.val\n",
    "                l1 = l1.next\n",
    "\n",
    "            if l2 is not None:\n",
    "                sum += l2.val\n",
    "                l2 = l2.next\n",
    "\n",
    "            carry = sum // 10\n",
    "            node = ListNode(sum % 10)\n",
    "\n",
    "            if temp is None:\n",
    "                temp = head = node\n",
    "            else:\n",
    "                temp.next = node\n",
    "                temp      = temp.next\n",
    "\n",
    "        if carry > 0:\n",
    "            temp.next = ListNode(carry)\n",
    "        return head"
   ]
  },
  {
   "attachments": {},
   "cell_type": "markdown",
   "metadata": {},
   "source": [
    "### 11. Container With Most Water"
   ]
  },
  {
   "cell_type": "code",
   "execution_count": null,
   "metadata": {},
   "outputs": [],
   "source": [
    "class Solution:\n",
    "    def maxArea(self, height: List[int]) -> int:        \n",
    "        max_area = 0\n",
    "        left = 0\n",
    "        right = len(height)-1\n",
    "\n",
    "        while left < right:\n",
    "            mini_index  = min(height[left], height[right])\n",
    "            max_area    = max(max_area, mini_index*(right-left))\n",
    "            if height[left]<height[right]:\n",
    "                left+=1\n",
    "            else:\n",
    "                right-=1\n",
    "        return max_area"
   ]
  },
  {
   "attachments": {},
   "cell_type": "markdown",
   "metadata": {},
   "source": [
    "### 13. Roman to Integer"
   ]
  },
  {
   "cell_type": "code",
   "execution_count": null,
   "metadata": {},
   "outputs": [],
   "source": [
    "class Solution:\n",
    "    def romanToInt(self, s: str) -> int:\n",
    "        s = s+'I'\n",
    "        decode = {\"I\":1, \"V\":5, \"X\":10, \"L\":50, \"C\":100, \"D\":500, \"M\":1000}\n",
    "        sum_value = 0\n",
    "        pass_content = False\n",
    "\n",
    "        for i in range(len(s)-1):\n",
    "            if pass_content:\n",
    "                pass_content = False\n",
    "                continue\n",
    "            try:\n",
    "                if decode[s[i]] < decode[s[i+1]]:\n",
    "                    sum_value += decode[s[i+1]] - decode[s[i]]\n",
    "                    pass_content = True\n",
    "                    continue\n",
    "                sum_value += decode[s[i]]\n",
    "            except:\n",
    "                pass\n",
    "\n",
    "        return sum_value"
   ]
  },
  {
   "attachments": {},
   "cell_type": "markdown",
   "metadata": {},
   "source": [
    "### 14. Longest Common Prefix"
   ]
  },
  {
   "cell_type": "code",
   "execution_count": null,
   "metadata": {},
   "outputs": [],
   "source": [
    "class Solution:\n",
    "    def longestCommonPrefix(self, strs: List[str]) -> str:\n",
    "        prefix = \"\"\n",
    "        first = strs[0]\n",
    "\n",
    "        if len(strs)==1:\n",
    "            return strs[0]\n",
    "     \n",
    "        if not first.isalpha():\n",
    "            return prefix  \n",
    "\n",
    "        for i in range(len(first)+1):\n",
    "            check = first[:i]\n",
    "            for cur in strs[1:]:\n",
    "\n",
    "                if cur.startswith(check):\n",
    "\n",
    "                    continue\n",
    "                else:\n",
    "                    return prefix\n",
    "                    \n",
    "            prefix = check\n",
    "        return prefix"
   ]
  },
  {
   "attachments": {},
   "cell_type": "markdown",
   "metadata": {},
   "source": [
    "### 35. Search Insert Position"
   ]
  },
  {
   "cell_type": "code",
   "execution_count": null,
   "metadata": {},
   "outputs": [],
   "source": [
    "class Solution:        \n",
    "    def searchInsert(self, nums: List[int], target: int) -> int:\n",
    "        import numpy as np\n",
    "        if target in nums:\n",
    "            return nums.index(target)\n",
    "        else:\n",
    "            return (np.array(nums)<target).sum()"
   ]
  },
  {
   "cell_type": "code",
   "execution_count": null,
   "metadata": {},
   "outputs": [],
   "source": []
  }
 ],
 "metadata": {
  "language_info": {
   "name": "python"
  },
  "orig_nbformat": 4
 },
 "nbformat": 4,
 "nbformat_minor": 2
}
