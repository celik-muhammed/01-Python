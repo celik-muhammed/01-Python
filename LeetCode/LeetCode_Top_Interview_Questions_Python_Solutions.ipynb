{
 "cells": [
  {
   "attachments": {},
   "cell_type": "markdown",
   "metadata": {},
   "source": [
    "### 1. Two Sum"
   ]
  },
  {
   "cell_type": "code",
   "execution_count": null,
   "metadata": {},
   "outputs": [],
   "source": [
    "class Solution:\n",
    "    def twoSum(self, nums: List[int], target: int) -> List[int]:\n",
    "        nums2 = nums.copy()\n",
    "        for i in nums:\n",
    "            nums2.remove(i)\n",
    "            for j in nums2:\n",
    "                if i+j == target:\n",
    "                    x = nums.index(i)\n",
    "                    y = nums.index(j, x+1)\n",
    "                    return [x, y]"
   ]
  },
  {
   "attachments": {},
   "cell_type": "markdown",
   "metadata": {},
   "source": [
    "### 2. Add Two Numbers"
   ]
  },
  {
   "cell_type": "code",
   "execution_count": null,
   "metadata": {},
   "outputs": [],
   "source": [
    "# Definition for singly-linked list.\n",
    "# class ListNode:\n",
    "#     def __init__(self, val=0, next=None):\n",
    "#         self.val = val\n",
    "#         self.next = next\n",
    "\n",
    "class Solution:\n",
    "    def addTwoNumbers(self, l1: Optional[ListNode], l2: Optional[ListNode]) -> Optional[ListNode]:\n",
    "        head  = None\n",
    "        temp  = None\n",
    "        carry  = 0\n",
    "\n",
    "        while l1 is not None or l2 is not None:\n",
    "\n",
    "            sum = carry\n",
    "\n",
    "            if l1 is not None:\n",
    "                sum += l1.val\n",
    "                l1 = l1.next\n",
    "\n",
    "            if l2 is not None:\n",
    "                sum += l2.val\n",
    "                l2 = l2.next\n",
    "\n",
    "            carry = sum // 10\n",
    "            node = ListNode(sum % 10)\n",
    "\n",
    "            if temp is None:\n",
    "                temp = head = node\n",
    "            else:\n",
    "                temp.next = node\n",
    "                temp      = temp.next\n",
    "\n",
    "        if carry > 0:\n",
    "            temp.next = ListNode(carry)\n",
    "        return head"
   ]
  },
  {
   "attachments": {},
   "cell_type": "markdown",
   "metadata": {},
   "source": [
    "### 4. Median of Two Sorted Arrays"
   ]
  },
  {
   "cell_type": "code",
   "execution_count": null,
   "metadata": {},
   "outputs": [],
   "source": [
    "class Solution:\n",
    "    def findMedianSortedArrays(self, nums1: List[int], nums2: List[int]) -> float:\n",
    "        import numpy as np\n",
    "        return np.median(np.hstack([nums1, nums2]))\n",
    "\n",
    "class Solution:\n",
    "    def findMedianSortedArrays(self, nums1: List[int], nums2: List[int]) -> float:\n",
    "        \n",
    "        nums1.extend(nums2)\n",
    "        nums = sorted(nums1)\n",
    "        size = len(nums)\n",
    "\n",
    "        if size % 2 == 0:\n",
    "            return (nums[(size//2)-1] + nums[size//2]) / 2\n",
    "        else:\n",
    "            return nums[size//2]"
   ]
  },
  {
   "attachments": {},
   "cell_type": "markdown",
   "metadata": {},
   "source": [
    "### 11. Container With Most Water"
   ]
  },
  {
   "cell_type": "code",
   "execution_count": null,
   "metadata": {},
   "outputs": [],
   "source": [
    "class Solution:\n",
    "    def maxArea(self, height: List[int]) -> int:        \n",
    "        max_area = 0\n",
    "        left = 0\n",
    "        right = len(height)-1\n",
    "\n",
    "        while left < right:\n",
    "            mini_index  = min(height[left], height[right])\n",
    "            max_area    = max(max_area, mini_index*(right-left))\n",
    "            if height[left]<height[right]:\n",
    "                left+=1\n",
    "            else:\n",
    "                right-=1\n",
    "        return max_area\n",
    "        "
   ]
  },
  {
   "attachments": {},
   "cell_type": "markdown",
   "metadata": {},
   "source": [
    "### 13. Roman to Integer"
   ]
  },
  {
   "cell_type": "code",
   "execution_count": null,
   "metadata": {},
   "outputs": [],
   "source": [
    "class Solution:\n",
    "    def romanToInt(self, s: str) -> int:\n",
    "        s = s+'I'\n",
    "        decode = {\"I\":1, \"V\":5, \"X\":10, \"L\":50, \"C\":100, \"D\":500, \"M\":1000}\n",
    "        sum_value = 0\n",
    "        pass_content = False\n",
    "\n",
    "        for i in range(len(s)-1):\n",
    "            if pass_content:\n",
    "                pass_content = False\n",
    "                continue\n",
    "            try:\n",
    "                if decode[s[i]] < decode[s[i+1]]:\n",
    "                    sum_value += decode[s[i+1]] - decode[s[i]]\n",
    "                    pass_content = True\n",
    "                    continue\n",
    "                sum_value += decode[s[i]]\n",
    "            except:\n",
    "                pass\n",
    "\n",
    "        return sum_value"
   ]
  },
  {
   "attachments": {},
   "cell_type": "markdown",
   "metadata": {},
   "source": [
    "### 14. Longest Common Prefix"
   ]
  },
  {
   "cell_type": "code",
   "execution_count": null,
   "metadata": {},
   "outputs": [],
   "source": [
    "class Solution:\n",
    "    def longestCommonPrefix(self, strs: List[str]) -> str:\n",
    "        prefix = \"\"\n",
    "        first = strs[0]\n",
    "\n",
    "        if len(strs)==1:\n",
    "            return strs[0]\n",
    "     \n",
    "        if not first.isalpha():\n",
    "            return prefix  \n",
    "\n",
    "        for i in range(len(first)+1):\n",
    "            check = first[:i]\n",
    "            for cur in strs[1:]:\n",
    "\n",
    "                if cur.startswith(check):\n",
    "\n",
    "                    continue\n",
    "                else:\n",
    "                    return prefix\n",
    "                    \n",
    "            prefix = check\n",
    "        return prefix"
   ]
  },
  {
   "attachments": {},
   "cell_type": "markdown",
   "metadata": {},
   "source": [
    "### 20. Valid Parentheses"
   ]
  },
  {
   "cell_type": "code",
   "execution_count": null,
   "metadata": {},
   "outputs": [],
   "source": [
    "class Solution:\n",
    "    def isValid(self, s: str) -> bool:\n",
    "        import re\n",
    "        for i in range(len(s)//2):\n",
    "            # s = re.sub('(\\(\\))*(\\[\\])*(\\{\\})*', '', s)\n",
    "            s = s.replace(\"()\",\"\").replace(\"{}\",\"\").replace(\"[]\",\"\")\n",
    "\n",
    "        return True if s == '' else False"
   ]
  },
  {
   "attachments": {},
   "cell_type": "markdown",
   "metadata": {},
   "source": [
    "### 21. Merge Two Sorted Lists"
   ]
  },
  {
   "cell_type": "code",
   "execution_count": null,
   "metadata": {},
   "outputs": [],
   "source": [
    "# Definition for singly-linked list.\n",
    "# class ListNode:\n",
    "#     def __init__(self, val=0, next=None):\n",
    "#         self.val = val\n",
    "#         self.next = next\n",
    "class Solution:\n",
    "    def mergeTwoLists(self, list1: Optional[ListNode], list2: Optional[ListNode]) -> Optional[ListNode]:\n",
    "        if list1==None and list2==None: return\n",
    "        \n",
    "        # # way-1\n",
    "        # head = None\n",
    "        # while list1 is not None and list2 is not None:\n",
    "        #     if list1.val <= list2.val:\n",
    "        #         temp = list1.next\n",
    "        #         list1.next = head\n",
    "        #         head  = list1\n",
    "        #         list1 = temp\n",
    "        #     else:\n",
    "        #         temp = list2.next\n",
    "        #         list2.next = head\n",
    "        #         head  = list2\n",
    "        #         list2 = temp\n",
    "\n",
    "        # while list1 is not None:\n",
    "        #     temp = list1.next\n",
    "        #     list1.next = head\n",
    "        #     head  = list1\n",
    "        #     list1 = temp\n",
    "\n",
    "        # while list2 is not None:\n",
    "        #     temp = list2.next\n",
    "        #     list2.next = head\n",
    "        #     head  = list2\n",
    "        #     list2 = temp\n",
    "        \n",
    "        # def reverse_list(head):\n",
    "        #     if head.next is None: return head\n",
    "        #     temp = reverse_list(head.next)\n",
    "        #     head.next.next = head\n",
    "        #     head.next = None\n",
    "        #     return temp\n",
    "\n",
    "        # return reverse_list(head)\n",
    "\n",
    "        # way-2\n",
    "        head = tail = ListNode()\n",
    "        \n",
    "        while list1 and list2:\n",
    "            if list1.val <= list2.val:\n",
    "                tail.next = list1\n",
    "                list1 = list1.next\n",
    "            else:\n",
    "                tail.next = list2\n",
    "                list2 = list2.next\n",
    "            tail = tail.next\n",
    "            \n",
    "        tail.next = list1 or list2\n",
    "        return head.next"
   ]
  },
  {
   "attachments": {},
   "cell_type": "markdown",
   "metadata": {},
   "source": [
    "### 26. Remove Duplicates from Sorted Array"
   ]
  },
  {
   "cell_type": "code",
   "execution_count": null,
   "metadata": {},
   "outputs": [],
   "source": [
    "class Solution:\n",
    "    def removeDuplicates(self, nums: List[int]) -> int:\n",
    "        \n",
    "        for i in nums:\n",
    "            cur = nums.count(i) - 1\n",
    "            while cur:\n",
    "                nums.remove(i)\n",
    "                cur-=1\n",
    "                \n",
    "        return len(nums)"
   ]
  },
  {
   "attachments": {},
   "cell_type": "markdown",
   "metadata": {},
   "source": [
    "### 35. Search Insert Position"
   ]
  },
  {
   "cell_type": "code",
   "execution_count": null,
   "metadata": {},
   "outputs": [],
   "source": [
    "class Solution:        \n",
    "    def searchInsert(self, nums: List[int], target: int) -> int:\n",
    "        import numpy as np\n",
    "        if target in nums:\n",
    "            return nums.index(target)\n",
    "        else:\n",
    "            return (np.array(nums)<target).sum()\n",
    "            "
   ]
  },
  {
   "attachments": {},
   "cell_type": "markdown",
   "metadata": {},
   "source": [
    "### 70. Climbing Stairs"
   ]
  },
  {
   "cell_type": "code",
   "execution_count": null,
   "metadata": {},
   "outputs": [],
   "source": [
    "class Solution:\n",
    "    def climbStairs(self, n: int) -> int:\n",
    "        # # Way 1 Warning n = 38 TIME LIMIT\n",
    "        # # Recursive function to find\n",
    "        # # Nth fibonacci number\n",
    "        # def fib(n):\n",
    "        #     if n <= 1:\n",
    "        #         return n\n",
    "        #     return fib(n-1) + fib(n-2)\n",
    "\n",
    "        # # # Returns no. of ways to\n",
    "        # # # reach sth stair\n",
    "        # return fib(n + 1)\n",
    "\n",
    "        # # way 2\n",
    "        # a = b = 1\n",
    "        # for _ in range(n):\n",
    "        #     a, b = b, a + b\n",
    "        # return a\n",
    "        \n",
    "        # # way 3\n",
    "        a, b = 0, 1     \n",
    "        for _ in range(n):\n",
    "            a, b = b, a + b\n",
    "        return b\n",
    "        \n",
    "        # # way 4\n",
    "        # a, b = 1, 0     \n",
    "        # for _ in range(n):\n",
    "        #     a, b = a + b, a\n",
    "        # return a"
   ]
  },
  {
   "attachments": {},
   "cell_type": "markdown",
   "metadata": {},
   "source": [
    "### 88. Merge Sorted Array"
   ]
  },
  {
   "cell_type": "code",
   "execution_count": null,
   "metadata": {},
   "outputs": [],
   "source": [
    "class Solution:\n",
    "    def merge(self, nums1: List[int], m: int, nums2: List[int], n: int) -> None:\n",
    "        \"\"\"\n",
    "        Do not return anything, modify nums1 in-place instead.\n",
    "        \"\"\"        \n",
    "        nums1[:] = sorted(nums1[:m] + nums2[:n])"
   ]
  },
  {
   "attachments": {},
   "cell_type": "markdown",
   "metadata": {},
   "source": [
    "### 104. Maximum Depth of Binary Tree"
   ]
  },
  {
   "cell_type": "code",
   "execution_count": null,
   "metadata": {},
   "outputs": [],
   "source": [
    "# Definition for a binary tree node.\n",
    "# class TreeNode:\n",
    "#     def __init__(self, val=0, left=None, right=None):\n",
    "#         self.val = val\n",
    "#         self.left = left\n",
    "#         self.right = right\n",
    "class Solution:\n",
    "    def maxDepth(self, root: Optional[TreeNode]) -> int:        \n",
    "        if root==None: return 0\n",
    "\n",
    "        return max(self.maxDepth(root.left), self.maxDepth(root.right)) + 1"
   ]
  },
  {
   "attachments": {},
   "cell_type": "markdown",
   "metadata": {},
   "source": [
    "### 111. Minimum Depth of Binary Tree"
   ]
  },
  {
   "cell_type": "code",
   "execution_count": null,
   "metadata": {},
   "outputs": [],
   "source": [
    "# Definition for a binary tree node.\n",
    "# class TreeNode:\n",
    "#     def __init__(self, val=0, left=None, right=None):\n",
    "#         self.val = val\n",
    "#         self.left = left\n",
    "#         self.right = right\n",
    "class Solution:\n",
    "    def minDepth(self, root: Optional[TreeNode]) -> int:\n",
    "        if root==None: return 0\n",
    "        \n",
    "        if root.left==None:\n",
    "            return min(float('inf'), self.minDepth(root.right)) + 1\n",
    "        elif root.right==None:\n",
    "            return min(self.minDepth(root.left), float('inf')) + 1\n",
    "        else:\n",
    "            return min(self.minDepth(root.left), self.minDepth(root.right)) + 1"
   ]
  },
  {
   "attachments": {},
   "cell_type": "markdown",
   "metadata": {},
   "source": [
    "### 136. Single Number"
   ]
  },
  {
   "cell_type": "code",
   "execution_count": null,
   "metadata": {},
   "outputs": [],
   "source": [
    "class Solution:\n",
    "    def singleNumber(self, nums: List[int]) -> int:\n",
    "        # return [i for i in set(nums) if nums.count(i)==1].pop()\n",
    "        # return list(filter(lambda x: nums.count(x)==1, set(nums))).pop()\n",
    "\n",
    "        import numpy as np\n",
    "        unique, counts = np.unique(nums, return_counts=True)\n",
    "        counts = counts == 1\n",
    "        return unique[counts][0]"
   ]
  },
  {
   "attachments": {},
   "cell_type": "markdown",
   "metadata": {},
   "source": [
    "### 191. Number of 1 Bits"
   ]
  },
  {
   "cell_type": "code",
   "execution_count": null,
   "metadata": {},
   "outputs": [],
   "source": [
    "class Solution:\n",
    "    def hammingWeight(self, n: int) -> int:\n",
    "        bin_n = bin(n)[2:]\n",
    "        list1 = map(int, bin_n)\n",
    "        return sum(list1)"
   ]
  },
  {
   "attachments": {},
   "cell_type": "markdown",
   "metadata": {},
   "source": [
    "### 206. Reverse Linked List"
   ]
  },
  {
   "cell_type": "code",
   "execution_count": null,
   "metadata": {},
   "outputs": [],
   "source": [
    "# Definition for singly-linked list.\n",
    "# class ListNode:\n",
    "#     def __init__(self, val=0, next=None):\n",
    "#         self.val = val\n",
    "#         self.next = next\n",
    "class Solution:\n",
    "    def reverseList(self, head: Optional[ListNode]) -> Optional[ListNode]:\n",
    "        # # way-1 Iterative Method\n",
    "        # prev = None\n",
    "        # while head:\n",
    "        #     currentHead = head.next\n",
    "\n",
    "        #     head.next = prev\n",
    "        #     prev = head\n",
    "        #     head = currentHead\n",
    "\n",
    "        # return prev\n",
    "\n",
    "        # way-2 Recursion\n",
    "        if head==None or head.next==None: return head\n",
    "\n",
    "        currentHead = self.reverseList(head.next)\n",
    "        head.next.next = head\n",
    "        head.next = None\n",
    "        return currentHead"
   ]
  },
  {
   "attachments": {},
   "cell_type": "markdown",
   "metadata": {},
   "source": [
    "### 303. Range Sum Query - Immutable"
   ]
  },
  {
   "cell_type": "code",
   "execution_count": null,
   "metadata": {},
   "outputs": [],
   "source": [
    "class NumArray:\n",
    "\n",
    "    def __init__(self, nums: List[int]):\n",
    "        self.nums = nums        \n",
    "\n",
    "    def sumRange(self, left: int, right: int) -> int:\n",
    "        cur = self.nums[left: right+1]\n",
    "        return sum(cur)        \n",
    "\n",
    "\n",
    "# Your NumArray object will be instantiated and called as such:\n",
    "# obj = NumArray(nums)\n",
    "# param_1 = obj.sumRange(left,right)"
   ]
  },
  {
   "attachments": {},
   "cell_type": "markdown",
   "metadata": {},
   "source": [
    "### 338. Counting Bits"
   ]
  },
  {
   "cell_type": "code",
   "execution_count": null,
   "metadata": {},
   "outputs": [],
   "source": [
    "class Solution:\n",
    "    def countBits(self, n: int) -> List[int]:\n",
    "        return [sum(map(int, bin(i)[2:])) for i in range(n+1)]"
   ]
  },
  {
   "attachments": {},
   "cell_type": "markdown",
   "metadata": {},
   "source": [
    "### 509. Fibonacci Number"
   ]
  },
  {
   "cell_type": "code",
   "execution_count": null,
   "metadata": {},
   "outputs": [],
   "source": [
    "class Solution:\n",
    "    def fib(self, n: int) -> int:\n",
    "        # a, b = 0, 1\n",
    "        # for _ in range(n):\n",
    "        #     a, b = b, a+b\n",
    "        # return a\n",
    "\n",
    "        def f(n):\n",
    "            if n == 0:\n",
    "                return 0\n",
    "            elif n == 1:\n",
    "                return 1\n",
    "            else:\n",
    "                return f(n-1) + f(n-2)\n",
    "                \n",
    "        return f(n)"
   ]
  },
  {
   "attachments": {},
   "cell_type": "markdown",
   "metadata": {},
   "source": [
    "### 977. Squares of a Sorted Array"
   ]
  },
  {
   "cell_type": "code",
   "execution_count": null,
   "metadata": {},
   "outputs": [],
   "source": [
    "class Solution:\n",
    "    def sortedSquares(self, nums: List[int]) -> List[int]:\n",
    "        return sorted([pow(i, 2) for i in nums])"
   ]
  },
  {
   "attachments": {},
   "cell_type": "markdown",
   "metadata": {},
   "source": [
    "### 1886. Determine Whether Matrix Can Be Obtained By Rotation"
   ]
  },
  {
   "cell_type": "code",
   "execution_count": null,
   "metadata": {},
   "outputs": [],
   "source": [
    "class Solution:\n",
    "    def findRotation(self, mat: List[List[int]], target: List[List[int]]) -> bool:\n",
    "        for _ in range(4):\n",
    "            if mat == target: return True\n",
    "            # mat = [list(col) for col in zip(*mat[::-1])]\n",
    "            mat = [list(col) for col in zip(*reversed(mat))]\n",
    "\n",
    "            # mat.reverse()\n",
    "            # mat = [list(col) for col in zip(*mat)]\n",
    "        return False"
   ]
  }
 ],
 "metadata": {
  "language_info": {
   "name": "python"
  },
  "orig_nbformat": 4
 },
 "nbformat": 4,
 "nbformat_minor": 2
}
