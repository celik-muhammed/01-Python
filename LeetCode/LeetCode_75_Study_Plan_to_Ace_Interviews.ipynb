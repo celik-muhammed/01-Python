{
 "cells": [
  {
   "attachments": {},
   "cell_type": "markdown",
   "metadata": {},
   "source": [
    "###  1480. Running Sum of 1d Array"
   ]
  },
  {
   "cell_type": "code",
   "execution_count": null,
   "metadata": {},
   "outputs": [],
   "source": [
    "class Solution:\n",
    "    def runningSum(self, nums: List[int]) -> List[int]:\n",
    "        output = []\n",
    "\n",
    "        for i in range(1, len(nums)+1):\n",
    "            result = sum(nums[:i])\n",
    "            output.append(result)\n",
    "\n",
    "        return output"
   ]
  },
  {
   "attachments": {},
   "cell_type": "markdown",
   "metadata": {},
   "source": [
    "### 724. Find Pivot Index"
   ]
  },
  {
   "cell_type": "code",
   "execution_count": null,
   "metadata": {},
   "outputs": [],
   "source": [
    "class Solution:\n",
    "    def pivotIndex(self, nums: List[int]) -> int:\n",
    "\n",
    "        for i in range(len(nums)):\n",
    "            leftside  = sum( nums[:i] )\n",
    "            rightside = sum( nums[i+1:] )\n",
    "\n",
    "            if leftside == rightside:\n",
    "                return i        \n",
    "        else:\n",
    "            return -1"
   ]
  },
  {
   "attachments": {},
   "cell_type": "markdown",
   "metadata": {},
   "source": [
    "### 205. Isomorphic Strings"
   ]
  },
  {
   "cell_type": "code",
   "execution_count": null,
   "metadata": {},
   "outputs": [],
   "source": [
    "class Solution:\n",
    "    def isIsomorphic(self, s: str, t: str) -> bool:\n",
    "        \n",
    "        d1, d2 = {}, {}\n",
    "\n",
    "        for i, val in enumerate(s):\n",
    "            d1[val] = d1.get(val, []) + [i]\n",
    "\n",
    "        for i, val in enumerate(t):\n",
    "            d2[val] = d2.get(val, []) + [i]\n",
    "            \n",
    "        return list(d1.values()) == list(d2.values())"
   ]
  }
 ],
 "metadata": {
  "language_info": {
   "name": "python"
  },
  "orig_nbformat": 4
 },
 "nbformat": 4,
 "nbformat_minor": 2
}
