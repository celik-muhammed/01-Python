{
 "cells": [
  {
   "attachments": {},
   "cell_type": "markdown",
   "metadata": {},
   "source": [
    "# HackerRank Python"
   ]
  },
  {
   "attachments": {},
   "cell_type": "markdown",
   "metadata": {},
   "source": [
    "## Introduction"
   ]
  },
  {
   "attachments": {},
   "cell_type": "markdown",
   "metadata": {},
   "source": [
    "### Python: Division "
   ]
  },
  {
   "cell_type": "code",
   "execution_count": 1,
   "metadata": {},
   "outputs": [
    {
     "name": "stdout",
     "output_type": "stream",
     "text": [
      "0\n",
      "0.5\n"
     ]
    }
   ],
   "source": [
    "if __name__ == '__main__':\n",
    "    a = int(input())\n",
    "    b = int(input())\n",
    "    \n",
    "    print(a//b, a/b, sep='\\n')"
   ]
  },
  {
   "attachments": {},
   "cell_type": "markdown",
   "metadata": {},
   "source": [
    "## Basic Data Types"
   ]
  },
  {
   "attachments": {},
   "cell_type": "markdown",
   "metadata": {},
   "source": [
    "### List Comprehensions"
   ]
  },
  {
   "cell_type": "code",
   "execution_count": null,
   "metadata": {},
   "outputs": [],
   "source": [
    "if __name__ == '__main__':\n",
    "    x = int(input())\n",
    "    y = int(input())\n",
    "    z = int(input())\n",
    "    n = int(input())\n",
    "    \n",
    "    print([[i,j,k] for i in range(x+1) for j in range(y+1) for k in range(z+1) if i+j+k!=n])"
   ]
  },
  {
   "attachments": {},
   "cell_type": "markdown",
   "metadata": {},
   "source": [
    "### Find the Runner-Up Score!"
   ]
  },
  {
   "cell_type": "code",
   "execution_count": null,
   "metadata": {},
   "outputs": [],
   "source": [
    "if __name__ == '__main__':\n",
    "    n = int(input())\n",
    "    arr = [*map(int, input().split())]\n",
    "    \n",
    "    num = max(arr)\n",
    "    while num in arr:\n",
    "        arr.remove(num)\n",
    "    \n",
    "    print(max(arr))"
   ]
  },
  {
   "attachments": {},
   "cell_type": "markdown",
   "metadata": {},
   "source": [
    "### Nested Lists"
   ]
  },
  {
   "cell_type": "code",
   "execution_count": null,
   "metadata": {},
   "outputs": [],
   "source": [
    "if __name__ == '__main__':\n",
    "    name = []\n",
    "    score = []\n",
    "    \n",
    "    for _ in range(int(input())):\n",
    "        name.append(input())\n",
    "        score.append(float(input()))\n",
    "        \n",
    "    records = {k:v for k,v in zip(name, score)}   \n",
    "    mini = min(records.values()) \n",
    "    \n",
    "    records = {k:v for k,v in records.items() if mini!=v}\n",
    "    mini = min(records.values())\n",
    "    \n",
    "    records = {k:v for k,v in records.items() if mini==v}    \n",
    "    s = sorted(records)\n",
    "    \n",
    "    print(*s, sep='\\n')"
   ]
  },
  {
   "attachments": {},
   "cell_type": "markdown",
   "metadata": {},
   "source": [
    "### Finding the percentage"
   ]
  },
  {
   "cell_type": "code",
   "execution_count": null,
   "metadata": {},
   "outputs": [],
   "source": [
    "if __name__ == '__main__':\n",
    "    n = int(input())\n",
    "    student_marks = {}\n",
    "    for _ in range(n):\n",
    "        name, *line = input().split()\n",
    "        scores = list(map(float, line))\n",
    "        student_marks[name] = scores\n",
    "    query_name = input()\n",
    "    \n",
    "    result = sum(student_marks[query_name])/len(student_marks[query_name])\n",
    "    print(f'{result:.2f}')"
   ]
  },
  {
   "attachments": {},
   "cell_type": "markdown",
   "metadata": {},
   "source": [
    "### Lists"
   ]
  },
  {
   "cell_type": "code",
   "execution_count": null,
   "metadata": {},
   "outputs": [],
   "source": [
    "if __name__ == '__main__':\n",
    "    N = int(input())\n",
    "    arr = []\n",
    "        \n",
    "    while N:\n",
    "        read = input()\n",
    "        if read.split()[0] == 'insert':\n",
    "            arr.insert(int(read.split()[1]), int(read.split()[2]))\n",
    "        elif read.split()[0] == 'print':\n",
    "            print(arr)\n",
    "        elif read.split()[0] == 'remove':\n",
    "            arr.remove(int(read.split()[1]))\n",
    "        elif read.split()[0] == 'append':\n",
    "            arr.append(int(read.split()[1]))\n",
    "        elif read.split()[0] == 'sort':\n",
    "            arr.sort()\n",
    "        elif read.split()[0] == 'pop':\n",
    "            arr.pop()\n",
    "        elif read.split()[0] == 'reverse':\n",
    "            arr.reverse()\n",
    "            \n",
    "        N -= 1"
   ]
  },
  {
   "attachments": {},
   "cell_type": "markdown",
   "metadata": {},
   "source": [
    "### Tuples"
   ]
  },
  {
   "cell_type": "code",
   "execution_count": null,
   "metadata": {},
   "outputs": [],
   "source": [
    "# Enter your code here. Read input from STDIN. Print output to STDOUT\n",
    "n = input()\n",
    "t = input()\n",
    "integer_list = map(int, t.split())\n",
    "    \n",
    "# print(n)\n",
    "# print(t)\n",
    "print(hash(tuple(integer_list)))"
   ]
  },
  {
   "attachments": {},
   "cell_type": "markdown",
   "metadata": {},
   "source": [
    "## Strings"
   ]
  },
  {
   "attachments": {},
   "cell_type": "markdown",
   "metadata": {},
   "source": [
    "### sWAP cASE"
   ]
  },
  {
   "cell_type": "code",
   "execution_count": 2,
   "metadata": {},
   "outputs": [
    {
     "data": {
      "text/plain": [
       "'hACKERrANK.COM PRESENTS \"pYTHONIST 2\".'"
      ]
     },
     "execution_count": 2,
     "metadata": {},
     "output_type": "execute_result"
    }
   ],
   "source": [
    "# sWAP cASE\n",
    "def swap_case(s):    \n",
    "    # return s.swapcase()\n",
    "    # result = [i.upper() if i==i.lower() else i.lower() for i in s]    \n",
    "    # return ''.join(result)\n",
    "\n",
    "    s1 = ''\n",
    "    for i in s:\n",
    "        if i in i.lower():\n",
    "            s1+= i.upper()\n",
    "        else:\n",
    "            s1+= i.lower()\n",
    "    return s1\n",
    "\n",
    "swap_case('''HackerRank.com presents \"Pythonist 2\".''')"
   ]
  },
  {
   "attachments": {},
   "cell_type": "markdown",
   "metadata": {},
   "source": [
    "### String Split and Join"
   ]
  },
  {
   "cell_type": "code",
   "execution_count": null,
   "metadata": {},
   "outputs": [],
   "source": [
    "def split_and_join(line):\n",
    "    # write your code here\n",
    "    line = line.split()\n",
    "    return '-'.join(line)\n",
    "\n",
    "if __name__ == '__main__':\n",
    "    line = input()\n",
    "    result = split_and_join(line)\n",
    "    print(result)"
   ]
  },
  {
   "attachments": {},
   "cell_type": "markdown",
   "metadata": {},
   "source": [
    "### What's Your Name?"
   ]
  },
  {
   "cell_type": "code",
   "execution_count": 19,
   "metadata": {},
   "outputs": [
    {
     "name": "stdout",
     "output_type": "stream",
     "text": [
      "Hello Hacker Rank! You just delved into python.\n"
     ]
    }
   ],
   "source": [
    "# Complete the 'print_full_name' function below.\n",
    "#\n",
    "# The function is expected to return a STRING.\n",
    "# The function accepts following parameters:\n",
    "#  1. STRING first\n",
    "#  2. STRING last\n",
    "#\n",
    "\n",
    "def print_full_name(first, last):\n",
    "    # Write your code here\n",
    "    print(f'Hello {first} {last}! You just delved into python.')\n",
    "\n",
    "if __name__ == '__main__':\n",
    "    first_name = input()\n",
    "    last_name = input()\n",
    "    print_full_name(first_name, last_name)"
   ]
  },
  {
   "attachments": {},
   "cell_type": "markdown",
   "metadata": {},
   "source": [
    "### Mutations"
   ]
  },
  {
   "cell_type": "code",
   "execution_count": 21,
   "metadata": {},
   "outputs": [
    {
     "name": "stdout",
     "output_type": "stream",
     "text": [
      "abracadabra\n",
      "abrackdabra\n"
     ]
    }
   ],
   "source": [
    "# Mutations\n",
    "def mutate_string(string, position, character):    \n",
    "    print(string)\n",
    "    arr = [j if i!=position else character for i,j in enumerate(string)]    \n",
    "    return ''.join(arr)\n",
    "\n",
    "\n",
    "if __name__ == '__main__':\n",
    "    s = input()\n",
    "    i, c = input().split()\n",
    "    s_new = mutate_string(s, int(i), c)\n",
    "    print(s_new)"
   ]
  },
  {
   "attachments": {},
   "cell_type": "markdown",
   "metadata": {},
   "source": [
    "### Find a string"
   ]
  },
  {
   "cell_type": "code",
   "execution_count": null,
   "metadata": {},
   "outputs": [],
   "source": [
    "def count_substring(string, sub_string):\n",
    "    import re\n",
    "    #search for the item\n",
    "    count = 0\n",
    "    for i in range(len(string)):\n",
    "        match = re.search(f'({sub_string})', string)\n",
    "        if match !=None:\n",
    "            print(match.group())            \n",
    "        \n",
    "    return len(match)\n",
    "\n",
    "if __name__ == '__main__':\n",
    "    string = input().strip()\n",
    "    sub_string = input().strip()\n",
    "    \n",
    "    count = count_substring(string, sub_string)\n",
    "    print(count)"
   ]
  },
  {
   "attachments": {},
   "cell_type": "markdown",
   "metadata": {},
   "source": [
    "### String Validators"
   ]
  },
  {
   "cell_type": "code",
   "execution_count": 5,
   "metadata": {},
   "outputs": [
    {
     "name": "stdout",
     "output_type": "stream",
     "text": [
      "True\n",
      "True\n",
      "True\n",
      "True\n",
      "True\n"
     ]
    }
   ],
   "source": [
    "# String Validators\n",
    "if __name__ == '__main__':\n",
    "    s = input()\n",
    "    \n",
    "    print(any(i.isalnum() for i in s))\n",
    "    print(any(i.isalpha() for i in s))\n",
    "    print(any(i.isdigit() for i in s))\n",
    "    print(any(i.islower() for i in s))\n",
    "    print(any(i.isupper() for i in s))"
   ]
  },
  {
   "attachments": {},
   "cell_type": "markdown",
   "metadata": {},
   "source": [
    "### Text Alignment"
   ]
  },
  {
   "cell_type": "code",
   "execution_count": 22,
   "metadata": {},
   "outputs": [
    {
     "name": "stdout",
     "output_type": "stream",
     "text": [
      "2\n"
     ]
    }
   ],
   "source": [
    "#Replace all ______ with rjust, ljust or center. \n",
    "\n",
    "thickness = int(input()) #This must be an odd number\n",
    "c = 'H'\n",
    "\n",
    "#Top Cone\n",
    "for i in range(thickness):\n",
    "    print((c*i).rjust(thickness-1)+c+(c*i).ljust(thickness-1))\n",
    "\n",
    "#Top Pillars\n",
    "for i in range(thickness+1):\n",
    "    print((c*thickness).center(thickness*2)+(c*thickness).center(thickness*6))\n",
    "\n",
    "#Middle Belt\n",
    "for i in range((thickness+1)//2):\n",
    "    print((c*thickness*5).center(thickness*6))    \n",
    "\n",
    "#Bottom Pillars\n",
    "for i in range(thickness+1):\n",
    "    print((c*thickness).center(thickness*2)+(c*thickness).center(thickness*6))    \n",
    "\n",
    "#Bottom Cone\n",
    "for i in range(thickness):\n",
    "    print(((c*(thickness-i-1)).rjust(thickness)+c+(c*(thickness-i-1)).ljust(thickness)).rjust(thickness*6))"
   ]
  },
  {
   "attachments": {},
   "cell_type": "markdown",
   "metadata": {},
   "source": [
    "### Text Wrap"
   ]
  },
  {
   "cell_type": "code",
   "execution_count": null,
   "metadata": {},
   "outputs": [],
   "source": [
    "import textwrap\n",
    "\n",
    "def wrap(string, max_width):\n",
    "    cur = ''\n",
    "    count = 0\n",
    "    \n",
    "    for i in string:\n",
    "        if count == max_width:\n",
    "            cur += '\\n'\n",
    "            count = 0\n",
    "        cur += i\n",
    "        count += 1\n",
    "        \n",
    "    return cur\n",
    "\n",
    "if __name__ == '__main__':\n",
    "    string, max_width = input(), int(input())\n",
    "    result = wrap(string, max_width)\n",
    "    print(result)"
   ]
  },
  {
   "attachments": {},
   "cell_type": "markdown",
   "metadata": {},
   "source": [
    "### Designer Door Mat"
   ]
  },
  {
   "cell_type": "code",
   "execution_count": null,
   "metadata": {},
   "outputs": [],
   "source": [
    "# Enter your code here. Read input from STDIN. Print output to STDOUT\n",
    "from math import ceil\n",
    "\n",
    "n, m = map(int, input().split())\n",
    "dash = '-'\n",
    "pipe = '.|.'\n",
    "\n",
    "# print(n, m)\n",
    "\n",
    "for row in range(1, n+1):\n",
    "    if row < ceil(n/2):\n",
    "        p = 2*row-1\n",
    "        d = (m - len((pipe*p)))//2\n",
    "        \n",
    "        print((dash*d)+(pipe*p)+(dash*d))\n",
    "    \n",
    "    if row == ceil(n/2):\n",
    "        p = 'WELCOME'\n",
    "        d = (m - len(p))//2\n",
    "        \n",
    "        print((dash*d)+(p)+(dash*d))\n",
    "        \n",
    "    if row > ceil(n/2):\n",
    "        p = 2*(n+1-row)-1\n",
    "        d = (m - len((pipe*p)))//2\n",
    "        \n",
    "        print((dash*d)+(pipe*p)+(dash*d))"
   ]
  },
  {
   "attachments": {},
   "cell_type": "markdown",
   "metadata": {},
   "source": [
    "### String Formatting"
   ]
  },
  {
   "cell_type": "code",
   "execution_count": 10,
   "metadata": {},
   "outputs": [
    {
     "name": "stdout",
     "output_type": "stream",
     "text": [
      "   1    1    1    1\n",
      "   2    2    2   10\n",
      "   3    3    3   11\n",
      "   4    4    4  100\n",
      "   5    5    5  101\n",
      "   6    6    6  110\n",
      "   7    7    7  111\n",
      "   8   10    8 1000\n",
      "   9   11    9 1001\n",
      "  10   12    A 1010\n",
      "  11   13    B 1011\n"
     ]
    }
   ],
   "source": [
    "def print_formatted(number):\n",
    "    # your code goes here        \n",
    "    length = len(f\"{number:b}\")\n",
    "\n",
    "    for i in range(1, number + 1):\n",
    "        # print( f\"{i}\".rjust(length), f\"{i:o}\".rjust(length), f\"{i:X}\".rjust(length), \"{0:b}\".format(i).rjust(length) )\n",
    "        print(\"{0:{w}d} {0:{w}o} {0:{w}X} {0:{w}b}\".format(i, w=length))\n",
    "        \n",
    "if __name__ == '__main__':\n",
    "    n = int(input())\n",
    "    print_formatted(n)"
   ]
  },
  {
   "attachments": {},
   "cell_type": "markdown",
   "metadata": {},
   "source": [
    "### Alphabet Rangoli"
   ]
  },
  {
   "cell_type": "code",
   "execution_count": 11,
   "metadata": {},
   "outputs": [
    {
     "name": "stdout",
     "output_type": "stream",
     "text": [
      "--------e--------\n",
      "------e-d-e------\n",
      "----e-d-c-d-e----\n",
      "--e-d-c-b-c-d-e--\n",
      "e-d-c-b-a-b-c-d-e\n",
      "--e-d-c-b-c-d-e--\n",
      "----e-d-c-d-e----\n",
      "------e-d-e------\n",
      "--------e--------\n"
     ]
    }
   ],
   "source": [
    "def print_rangoli(size):\n",
    "    # define all letters\n",
    "    data  = [chr(ord('a')+i) for i in range(size)]\n",
    "    items = [*range(size)]\n",
    "    items = items[:-1] + items[::-1]\n",
    "    \n",
    "    for i in items:\n",
    "        temp = data[-(i+1):]\n",
    "        row  = temp[::-1] + temp[1:]\n",
    "        print('-'.join(row).center(4*size-3, '-'))    \n",
    "    \n",
    "\n",
    "if __name__ == '__main__':\n",
    "    n = int(input())\n",
    "    print_rangoli(n)"
   ]
  },
  {
   "attachments": {},
   "cell_type": "markdown",
   "metadata": {},
   "source": [
    "### Capitalize!"
   ]
  },
  {
   "cell_type": "code",
   "execution_count": 25,
   "metadata": {},
   "outputs": [
    {
     "name": "stdout",
     "output_type": "stream",
     "text": [
      "Chris Alan\n"
     ]
    }
   ],
   "source": [
    "# Complete the solve function below.\n",
    "def solve(s):\n",
    "    for i in s.split():\n",
    "        s = s.replace(i,i.capitalize())\n",
    "    return s\n",
    "\n",
    "\n",
    "if __name__ == '__main__':\n",
    "    # import os\n",
    "    # fptr = open(os.environ['OUTPUT_PATH'], 'w')\n",
    "    s = input()\n",
    "    result = solve(s)\n",
    "    print(result)\n",
    "    # fptr.write(result + '\\n')\n",
    "    # fptr.close()"
   ]
  },
  {
   "attachments": {},
   "cell_type": "markdown",
   "metadata": {},
   "source": [
    "### The Minion Game"
   ]
  },
  {
   "cell_type": "code",
   "execution_count": 13,
   "metadata": {},
   "outputs": [
    {
     "name": "stdout",
     "output_type": "stream",
     "text": [
      "Stuart 12\n"
     ]
    }
   ],
   "source": [
    "def minion_game(string):\n",
    "    # your code goes here\n",
    "    kevin  = stuart = 0\n",
    "    length = len(string)\n",
    "    vowels = 'AEIOU'\n",
    "    \n",
    "    # Solution-1: Using dictionary of words\n",
    "    # for i, char in enumerate(string):\n",
    "    #     points = length - i\n",
    "    #     if char in vowels:\n",
    "    #         kevin += points\n",
    "    #     else:\n",
    "    #         stuart += points            \n",
    "            \n",
    "    # Solution-2: using if-else statements  \n",
    "    # for i in range(length):\n",
    "    #     points = length - i\n",
    "    #     if string[i] in vowels:\n",
    "    #         kevin  += points\n",
    "    #     else:\n",
    "    #         stuart += points      \n",
    "            \n",
    "    # Solution-3: Using re module\n",
    "    import re  \n",
    "    for i, char in enumerate(string):\n",
    "        points = length - i\n",
    "        if re.match(f'^[{vowels}]', char):\n",
    "            kevin += points\n",
    "                              \n",
    "    stuart = (length*(length+1)//2) - kevin \n",
    "               \n",
    "    \n",
    "    print(\"Draw\") if kevin == stuart else \\\n",
    "    print(*(\"Stuart\", stuart) if stuart > kevin else (\"Kevin\", kevin))\n",
    "    \n",
    "    \n",
    "\n",
    "if __name__ == '__main__':\n",
    "    s = input()\n",
    "    minion_game(s)"
   ]
  },
  {
   "attachments": {},
   "cell_type": "markdown",
   "metadata": {},
   "source": [
    "### Merge the Tools!"
   ]
  },
  {
   "cell_type": "code",
   "execution_count": null,
   "metadata": {},
   "outputs": [],
   "source": [
    "def merge_the_tools(string, k):\n",
    "    # your code goes here\n",
    "    sublist = len(string)//k    \n",
    "    list1 = []\n",
    "    list2 = []  \n",
    "    cur   = ''      \n",
    "    for i in range(sublist):\n",
    "        # way 1\n",
    "        # print(''.join(dict.fromkeys(string[i*k:(i*k)+k])))\n",
    "        \n",
    "        # way 2\n",
    "        # list1.append(string[i*k:(i*k)+k:])\n",
    "        word = string[i*k:(i*k)+k:]\n",
    "    \n",
    "        for letter in word:\n",
    "            if letter not in cur:\n",
    "                cur += letter\n",
    "        list2.append(cur)\n",
    "        cur   = ''\n",
    "        \n",
    "    # print(list1)\n",
    "    print(*list2, sep='\\n')\n",
    "    \n",
    "\n",
    "if __name__ == '__main__':\n",
    "    string, k = input(), int(input())\n",
    "    merge_the_tools(string, k)"
   ]
  },
  {
   "attachments": {},
   "cell_type": "markdown",
   "metadata": {},
   "source": [
    "## Sets"
   ]
  },
  {
   "attachments": {},
   "cell_type": "markdown",
   "metadata": {},
   "source": [
    "### Introduction to Sets"
   ]
  },
  {
   "cell_type": "code",
   "execution_count": null,
   "metadata": {},
   "outputs": [],
   "source": [
    "def average(array):\n",
    "    # your code goes here\n",
    "    array = set(array)\n",
    "    return sum(array)/len(array)\n",
    "\n",
    "if __name__ == '__main__':\n",
    "    n = int(input())\n",
    "    arr = list(map(int, input().split()))\n",
    "    result = average(arr)\n",
    "    print(result)"
   ]
  },
  {
   "attachments": {},
   "cell_type": "markdown",
   "metadata": {},
   "source": [
    "### Symmetric Difference"
   ]
  },
  {
   "cell_type": "code",
   "execution_count": null,
   "metadata": {},
   "outputs": [],
   "source": [
    "# Enter your code here. Read input from STDIN. Print output to STDOUT\n",
    "a = input()\n",
    "seta = set(map(int, input().split()))\n",
    "b = input()\n",
    "setb = set(map(int, input().split()))\n",
    "\n",
    "# seta.add(setb)     # list insert\n",
    "# seta.update(setb)  # list extend\n",
    "# seta.discard(setb) # not raise error\n",
    "# seta.remove(setb)  # raise error\n",
    "\n",
    "# result = seta.union(setb).difference( seta.intersection(setb) )\n",
    "# result = (seta | setb) - (seta & setb)\n",
    "\n",
    "result = seta.symmetric_difference(setb)\n",
    "\n",
    "# print(result)\n",
    "print(*sorted(result), sep='\\n')"
   ]
  },
  {
   "attachments": {},
   "cell_type": "markdown",
   "metadata": {},
   "source": [
    "### Set .add()"
   ]
  },
  {
   "cell_type": "code",
   "execution_count": null,
   "metadata": {},
   "outputs": [],
   "source": [
    "# Enter your code here. Read input from STDIN. Print output to STDOUT\n",
    "n = int(input())\n",
    "\n",
    "# set1 = set()\n",
    "# for i in range(n):\n",
    "#     set1.add(input())\n",
    "\n",
    "set1 = {input() for i in range(n)}\n",
    "\n",
    "print(len(set1))"
   ]
  },
  {
   "attachments": {},
   "cell_type": "markdown",
   "metadata": {},
   "source": [
    "### Set .discard(), .remove() & .pop()"
   ]
  },
  {
   "cell_type": "code",
   "execution_count": null,
   "metadata": {},
   "outputs": [],
   "source": [
    "n = int(input())\n",
    "s = set(map(int, input().split()))\n",
    "\n",
    "num = int(input())\n",
    "\n",
    "for i in range(num):\n",
    "    inp = input().split()\n",
    "    \n",
    "    if inp[0] == 'pop':\n",
    "        s.pop()\n",
    "    elif inp[0] == 'remove':\n",
    "        s.remove(int(inp[1]))\n",
    "    elif inp[0] == 'discard':\n",
    "        s.discard(int(inp[1]))\n",
    "    \n",
    "print(sum(s))"
   ]
  },
  {
   "attachments": {},
   "cell_type": "markdown",
   "metadata": {},
   "source": [
    "### Set .union() Operation"
   ]
  },
  {
   "cell_type": "code",
   "execution_count": null,
   "metadata": {},
   "outputs": [],
   "source": [
    "# Enter your code here. Read input from STDIN. Print output to STDOUT\n",
    "a = input()\n",
    "seta = set(map(int, input().split()))\n",
    "\n",
    "b = input()\n",
    "setb = set(map(int, input().split()))\n",
    "\n",
    "# result = seta.union(setb)\n",
    "result = seta | setb\n",
    "print(len(result))"
   ]
  },
  {
   "attachments": {},
   "cell_type": "markdown",
   "metadata": {},
   "source": [
    "### Set .intersection() Operation"
   ]
  },
  {
   "cell_type": "code",
   "execution_count": null,
   "metadata": {},
   "outputs": [],
   "source": [
    "# Enter your code here. Read input from STDIN. Print output to STDOUT\n",
    "a = input()\n",
    "seta = set(map(int, input().split()))\n",
    "\n",
    "b = input()\n",
    "setb = set(map(int, input().split()))\n",
    "\n",
    "# result = seta.intersection(setb)\n",
    "result = seta & setb\n",
    "print(len(result))"
   ]
  },
  {
   "attachments": {},
   "cell_type": "markdown",
   "metadata": {},
   "source": [
    "### Set .difference() Operation"
   ]
  },
  {
   "cell_type": "code",
   "execution_count": null,
   "metadata": {},
   "outputs": [],
   "source": [
    "# Enter your code here. Read input from STDIN. Print output to STDOUT\n",
    "a = input()\n",
    "seta = set(map(int, input().split()))\n",
    "\n",
    "b = input()\n",
    "setb = set(map(int, input().split()))\n",
    "\n",
    "# result = seta.difference(setb)\n",
    "result = seta - setb\n",
    "print(len(result))"
   ]
  },
  {
   "attachments": {},
   "cell_type": "markdown",
   "metadata": {},
   "source": [
    "### Set .symmetric_difference() Operation"
   ]
  },
  {
   "cell_type": "code",
   "execution_count": null,
   "metadata": {},
   "outputs": [],
   "source": [
    "# Enter your code here. Read input from STDIN. Print output to STDOUT\n",
    "a = input()\n",
    "seta = set(map(int, input().split()))\n",
    "\n",
    "b = input()\n",
    "setb = set(map(int, input().split()))\n",
    "\n",
    "# result = seta.symmetric_difference(setb)\n",
    "result = seta ^ setb\n",
    "print(len(result))"
   ]
  },
  {
   "attachments": {},
   "cell_type": "markdown",
   "metadata": {},
   "source": [
    "### Set Mutations"
   ]
  },
  {
   "cell_type": "code",
   "execution_count": null,
   "metadata": {},
   "outputs": [],
   "source": [
    "# Enter your code here. Read input from STDIN. Print output to STDOUT\n",
    "n = int(input())\n",
    "s = set(map(int, input().split()))\n",
    "\n",
    "num = int(input())\n",
    "\n",
    "for i in range(num):\n",
    "    inp = input().split()\n",
    "    \n",
    "    if inp[0] == 'intersection_update':\n",
    "        s &= set(map(int, input().split()))\n",
    "    elif inp[0] == 'update':\n",
    "        s |= set(map(int, input().split()))\n",
    "    elif inp[0] == 'symmetric_difference_update':\n",
    "        s ^= set(map(int, input().split()))\n",
    "    elif inp[0] == 'difference_update':\n",
    "        s -= set(map(int, input().split()))\n",
    "\n",
    "print(sum(s))"
   ]
  },
  {
   "attachments": {},
   "cell_type": "markdown",
   "metadata": {},
   "source": [
    "### The Captain's Room"
   ]
  },
  {
   "cell_type": "code",
   "execution_count": null,
   "metadata": {},
   "outputs": [],
   "source": [
    "# Enter your code here. Read input from STDIN. Print output to STDOUT\n",
    "group_members = int(input())\n",
    "member_list   = list(map(int, input().split()))\n",
    "\n",
    "# print(group_members)\n",
    "# print(member_list)\n",
    "print((sum(set(member_list))*group_members - sum(member_list))//(group_members-1))"
   ]
  },
  {
   "attachments": {},
   "cell_type": "markdown",
   "metadata": {},
   "source": [
    "### The Captain's Room"
   ]
  },
  {
   "cell_type": "code",
   "execution_count": null,
   "metadata": {},
   "outputs": [],
   "source": [
    "# Enter your code here. Read input from STDIN. Print output to STDOUT\n",
    "num_cases = int(input())\n",
    "\n",
    "for i in range(num_cases):\n",
    "    input()\n",
    "    sata = set(map(int, input().split()))\n",
    "    input()\n",
    "    setb = set(map(int, input().split()))\n",
    "    \n",
    "    print(sata.issubset(setb))"
   ]
  },
  {
   "attachments": {},
   "cell_type": "markdown",
   "metadata": {},
   "source": [
    "### Check Strict Superset"
   ]
  },
  {
   "cell_type": "code",
   "execution_count": null,
   "metadata": {},
   "outputs": [],
   "source": [
    "# Enter your code here. Read input from STDIN. Print output to STDOUT\n",
    "seta = set(map(int, (input().split())))  \n",
    "\n",
    "num_sets = int(input())\n",
    "is_all_subset = set()\n",
    "for i in range(num_sets):\n",
    "    set_cur = set(map(int, (input().split())))    \n",
    "    is_all_subset.add(seta.issuperset(set_cur))\n",
    "\n",
    "print(all(is_all_subset))"
   ]
  },
  {
   "attachments": {},
   "cell_type": "markdown",
   "metadata": {},
   "source": [
    "### No Idea!"
   ]
  },
  {
   "cell_type": "code",
   "execution_count": null,
   "metadata": {},
   "outputs": [],
   "source": [
    "# Enter your code here. Read input from STDIN. Print output to STDOUT\n",
    "input()\n",
    "set_main = list(map(int, input().split()))\n",
    "\n",
    "seta = set(map(int, input().split()))\n",
    "setb = set(map(int, input().split()))\n",
    "\n",
    "happiness = 0\n",
    "for i in set_main:\n",
    "    if i in seta:\n",
    "        happiness += 1\n",
    "    if {i}.issubset(setb):\n",
    "        happiness -= 1\n",
    "\n",
    "print(happiness)"
   ]
  },
  {
   "attachments": {},
   "cell_type": "markdown",
   "metadata": {},
   "source": [
    "## Math"
   ]
  },
  {
   "attachments": {},
   "cell_type": "markdown",
   "metadata": {},
   "source": [
    "### Polar Coordinates"
   ]
  },
  {
   "cell_type": "code",
   "execution_count": null,
   "metadata": {},
   "outputs": [],
   "source": [
    "# Enter your code here. Read input from STDIN. Print output to STDOUT\n",
    "z = input()\n",
    "# print(z)\n",
    "\n",
    "num = complex(z)\n",
    "# print(num)\n",
    "print(abs(num))\n",
    "\n",
    "import cmath\n",
    "print(cmath.phase(num))"
   ]
  },
  {
   "attachments": {},
   "cell_type": "markdown",
   "metadata": {},
   "source": [
    "### Find Angle MBC"
   ]
  },
  {
   "cell_type": "code",
   "execution_count": null,
   "metadata": {},
   "outputs": [],
   "source": [
    "# Enter your code here. Read input from STDIN. Print output to STDOUT\n",
    "# importing the module\n",
    "import math\n",
    "\n",
    "# # way 1\n",
    "# # taking the input from user\n",
    "# ab = float(input())\n",
    "# bc = float(input())\n",
    "\n",
    "# # finding the distance \n",
    "# ac = math.sqrt((ab*ab)+(bc*bc))\n",
    "# bm = ac / 2.0\n",
    "# mc = bm\n",
    "\n",
    "# # equalizing the sides \n",
    "# b = mc\n",
    "# c = bm\n",
    "# a = bc\n",
    "\n",
    "# # where b=c\n",
    "# # finding the angle in radian\n",
    "# angel_b_radian = math.acos(a / (2*b))\n",
    "\n",
    "# # converting the radian to degree\n",
    "# angel_b_degree = int(round((180 * angel_b_radian) / math.pi))\n",
    "\n",
    "# # printing with degree\n",
    "# print(angel_b_degree,'\\u00B0',sep='')\n",
    "\n",
    "# # way 2\n",
    "# # taking input of the sides\n",
    "# ab=int(input())\n",
    "# bc=int(input())\n",
    "\n",
    "# # finding the distance\n",
    "# ca = math.hypot(ab,bc)\n",
    "# mc = ca/2\n",
    "\n",
    "# # finding the angle\n",
    "# bca = math.asin(1*ab/ca)\n",
    "# bm  = math.sqrt((bc**2+mc**2)-(2*bc*mc*math.cos(bca)))\n",
    "# mbc = math.asin(math.sin(bca)*mc/bm)\n",
    "\n",
    "# # printing the angle\n",
    "# print(int(round(math.degrees(mbc),0)),'\\u00B0',sep='')\n",
    "\n",
    "# # way 3\n",
    "# # taking inputs\n",
    "# a = int(input())\n",
    "# b = int(input())\n",
    "\n",
    "# # finding distace and angle\n",
    "# M = math.sqrt(a**2+b**2)\n",
    "# theta = math.acos(b/M )\n",
    "\n",
    "# # printing the angle\n",
    "# print(int(round(math.degrees(theta),0)),'\\u00B0',sep='')\n",
    "\n",
    "# way 4\n",
    "# taking input from user\n",
    "AB,BC=int(input()),int(input())\n",
    "\n",
    "# calculating distance\n",
    "hype=math.hypot(AB, BC) \n",
    "theta = math.acos( BC/hype )     \n",
    "\n",
    "# calculating the angle\n",
    "res=round(math.degrees(theta)) \n",
    "\n",
    "# the 176 represents the degree symbol\n",
    "degree=chr(176)                          \n",
    "print(res,degree, sep='')"
   ]
  },
  {
   "attachments": {},
   "cell_type": "markdown",
   "metadata": {},
   "source": [
    "### Triangle Quest 2"
   ]
  },
  {
   "cell_type": "code",
   "execution_count": null,
   "metadata": {},
   "outputs": [],
   "source": [
    "# accepted solution\n",
    "for i in range(1,int(input())+1): #More than 2 lines will result in 0 score. Do not leave a blank line also\n",
    "    print ((((10**i)-1)//(9))**2)\n",
    "\n",
    "# # another solution\n",
    "# list1 = []\n",
    "# for i in range(1,int(input())+1): \n",
    "#     num = list(range(1, i+1))\n",
    "#     num = num[:-1] + num[::-1]\n",
    "#     cur = ''.join(map(str, num))\n",
    "#     cur = int(cur)\n",
    "#     list1.append(cur)\n",
    "    \n",
    "# print(*list1, sep='\\n')"
   ]
  },
  {
   "attachments": {},
   "cell_type": "markdown",
   "metadata": {},
   "source": [
    "### Mod Divmod"
   ]
  },
  {
   "cell_type": "code",
   "execution_count": null,
   "metadata": {},
   "outputs": [],
   "source": [
    "# Enter your code here. Read input from STDIN. Print output to STDOUT\n",
    "a = int(input())\n",
    "b = int(input())\n",
    "\n",
    "# print(a//b)\n",
    "import math \n",
    "print(math.floor(a/b ))\n",
    "print(a%b)\n",
    "print(divmod(a, b))"
   ]
  },
  {
   "attachments": {},
   "cell_type": "markdown",
   "metadata": {},
   "source": [
    "### Power - Mod Power"
   ]
  },
  {
   "cell_type": "code",
   "execution_count": null,
   "metadata": {},
   "outputs": [],
   "source": [
    "# Enter your code here. Read input from STDIN. Print output to STDOUT\n",
    "a = int(input())\n",
    "b = int(input())\n",
    "m = int(input())\n",
    "\n",
    "# print(a**b)\n",
    "# print(a**b%m)\n",
    "\n",
    "# way 2\n",
    "print(pow(a,b))\n",
    "print(pow(a,b,m))"
   ]
  },
  {
   "attachments": {},
   "cell_type": "markdown",
   "metadata": {},
   "source": [
    "### Integers Come In All Sizes"
   ]
  },
  {
   "cell_type": "code",
   "execution_count": null,
   "metadata": {},
   "outputs": [],
   "source": [
    "# Enter your code here. Read input from STDIN. Print output to STDOUT\n",
    "a = int(input())\n",
    "b = int(input())\n",
    "c = int(input())\n",
    "d = int(input())\n",
    "\n",
    "print(a**b+c**d)"
   ]
  },
  {
   "attachments": {},
   "cell_type": "markdown",
   "metadata": {},
   "source": [
    "### Triangle Quest"
   ]
  },
  {
   "cell_type": "code",
   "execution_count": null,
   "metadata": {},
   "outputs": [],
   "source": [
    "for i in range(1,int(input())): #More than 2 lines will result in 0 score. Do not leave a blank line also\n",
    "    # print(int(bin(2**i-1)[2:]) * i)\n",
    "    print((10**i-1)//9 * i)"
   ]
  },
  {
   "attachments": {},
   "cell_type": "markdown",
   "metadata": {},
   "source": [
    "## Itertools"
   ]
  },
  {
   "attachments": {},
   "cell_type": "markdown",
   "metadata": {},
   "source": [
    "### itertools.product()"
   ]
  },
  {
   "cell_type": "code",
   "execution_count": 14,
   "metadata": {},
   "outputs": [
    {
     "name": "stdout",
     "output_type": "stream",
     "text": [
      "(1, 3) (1, 4) (2, 3) (2, 4)\n"
     ]
    }
   ],
   "source": [
    "# Enter your code here. Read input from STDIN. Print output to STDOUT\n",
    "from itertools import product\n",
    "\n",
    "A = list(map(int, input().split()))\n",
    "B = list(map(int, input().split()))\n",
    "\n",
    "print(*product(A, B))\n",
    "# print(*((x,y) for x in A for y in B))"
   ]
  },
  {
   "attachments": {},
   "cell_type": "markdown",
   "metadata": {},
   "source": [
    "### itertools.permutations()"
   ]
  },
  {
   "cell_type": "code",
   "execution_count": 16,
   "metadata": {},
   "outputs": [
    {
     "name": "stdout",
     "output_type": "stream",
     "text": [
      "AC\n",
      "AH\n",
      "AK\n",
      "CA\n",
      "CH\n",
      "CK\n",
      "HA\n",
      "HC\n",
      "HK\n",
      "KA\n",
      "KC\n",
      "KH\n"
     ]
    }
   ],
   "source": [
    "# Enter your code here. Read input from STDIN. Print output to STDOUT\n",
    "from itertools import permutations\n",
    "\n",
    "inp = input().split()\n",
    "msg = inp[0]\n",
    "num = int(inp[1])\n",
    "\n",
    "# print(msg, num)\n",
    "\n",
    "cur    = list(permutations(msg, num))\n",
    "result = sorted(map(''.join, cur))\n",
    "\n",
    "print(*result, sep='\\n')"
   ]
  },
  {
   "attachments": {},
   "cell_type": "markdown",
   "metadata": {},
   "source": [
    "### itertools.combinations()"
   ]
  },
  {
   "cell_type": "code",
   "execution_count": 17,
   "metadata": {},
   "outputs": [
    {
     "name": "stdout",
     "output_type": "stream",
     "text": [
      "A\n",
      "C\n",
      "H\n",
      "K\n",
      "AC\n",
      "AH\n",
      "AK\n",
      "CH\n",
      "CK\n",
      "HK\n"
     ]
    }
   ],
   "source": [
    "# Enter your code here. Read input from STDIN. Print output to STDOUT\n",
    "from itertools import combinations\n",
    "\n",
    "inp = input().split()\n",
    "msg = sorted(inp[0])\n",
    "num = int(inp[1])\n",
    "\n",
    "# print(msg, num)\n",
    "\n",
    "# for i in range(1, num+1):\n",
    "#     for j in combinations(sorted(msg), i):\n",
    "#         print(\"\".join(j))\n",
    "\n",
    "result = []\n",
    "for i in range(num):\n",
    "    cur = list(combinations(msg, i+1))\n",
    "    result.extend(sorted(map(''.join, cur)))\n",
    "        \n",
    "print(*result, sep='\\n')"
   ]
  },
  {
   "attachments": {},
   "cell_type": "markdown",
   "metadata": {},
   "source": [
    "### itertools.combinations_with_replacement()"
   ]
  },
  {
   "cell_type": "code",
   "execution_count": null,
   "metadata": {},
   "outputs": [],
   "source": [
    "# Enter your code here. Read input from STDIN. Print output to STDOUT\n",
    "from itertools import combinations_with_replacement\n",
    "inp = input().split()\n",
    "result = list(combinations_with_replacement(sorted(inp[0]), int(inp[1])))\n",
    "\n",
    "print(*map(''.join, result), sep='\\n')"
   ]
  },
  {
   "attachments": {},
   "cell_type": "markdown",
   "metadata": {},
   "source": [
    "### Compress the String!"
   ]
  },
  {
   "cell_type": "code",
   "execution_count": null,
   "metadata": {},
   "outputs": [],
   "source": [
    "# Enter your code here. Read input from STDIN. Print output to STDOUT\n",
    "# importing the groupby method\n",
    "from itertools import groupby\n",
    "\n",
    "# using for loop to iterate through the string\n",
    "for k, c in groupby(input()):\n",
    "\n",
    "    #printing the output\n",
    "    # print(*k,*c)\n",
    "    #print(\"(%d, %d)\" % (len(list(c)), int(k)), end=' ')\n",
    "    #print(\"({:d}, {:d})\".format(len(list(c)), int(k)), end=' ')\n",
    "    print(f\"({len(list(c)):d}, {int(k):d})\", end=' ')"
   ]
  },
  {
   "attachments": {},
   "cell_type": "markdown",
   "metadata": {},
   "source": [
    "### Iterables and Iterators"
   ]
  },
  {
   "cell_type": "code",
   "execution_count": null,
   "metadata": {},
   "outputs": [],
   "source": [
    "# Enter your code here. Read input from STDIN. Print output to STDOUT\n",
    "n = int(input())\n",
    "s = input().split()\n",
    "k = int(input())\n",
    "\n",
    "# print(n,s,k)\n",
    "\n",
    "from itertools import combinations\n",
    "result = []\n",
    "cur = list(combinations(sorted(s), k))\n",
    "result.extend(map(''.join, cur))\n",
    "\n",
    "# print(*result, sep='\\n')\n",
    "\n",
    "a = [i for i in result if 'a' in i]\n",
    "\n",
    "print(round(len(a)/len(result),3))"
   ]
  },
  {
   "attachments": {},
   "cell_type": "markdown",
   "metadata": {},
   "source": [
    "### Maximize It!"
   ]
  },
  {
   "attachments": {},
   "cell_type": "markdown",
   "metadata": {},
   "source": [
    "## Collections"
   ]
  },
  {
   "attachments": {},
   "cell_type": "markdown",
   "metadata": {},
   "source": [
    "### collections.Counter()"
   ]
  },
  {
   "cell_type": "code",
   "execution_count": null,
   "metadata": {},
   "outputs": [],
   "source": [
    "# Enter your code here. Read input from STDIN. Print output to STDOUT\n",
    "from collections import Counter\n",
    "input()\n",
    "\n",
    "shoes = list(map(int, input().split()))\n",
    "shoes_count = Counter(shoes)\n",
    "\n",
    "num = int(input())\n",
    "total = 0\n",
    "\n",
    "for i in range(num):\n",
    "    size, price = map(int, input().split())\n",
    "    if size in shoes:\n",
    "        total += price\n",
    "        shoes.remove(size)\n",
    "\n",
    "print(total)"
   ]
  },
  {
   "attachments": {},
   "cell_type": "markdown",
   "metadata": {},
   "source": [
    "### Company Logo"
   ]
  },
  {
   "cell_type": "code",
   "execution_count": null,
   "metadata": {},
   "outputs": [],
   "source": [
    "#!/bin/python3\n",
    "\n",
    "import math\n",
    "import os\n",
    "import random\n",
    "import re\n",
    "import sys\n",
    "\n",
    "if __name__ == '__main__':\n",
    "    from collections import Counter\n",
    "    \n",
    "    # Read input\n",
    "    s = input().strip()\n",
    "\n",
    "    # Get the frequency count of each character in the string\n",
    "    freq_count = Counter(s)\n",
    "\n",
    "    # Sort the characters by their frequency and alphabetically\n",
    "    sorted_chars = sorted(freq_count.items(), key=lambda x: (-x[1], x[0]))\n",
    "\n",
    "    # Print the top three most common characters and their counts\n",
    "    for i in range(min(3, len(sorted_chars))):\n",
    "        print(sorted_chars[i][0], sorted_chars[i][1])"
   ]
  },
  {
   "attachments": {},
   "cell_type": "markdown",
   "metadata": {},
   "source": [
    "### Piling Up!"
   ]
  },
  {
   "cell_type": "code",
   "execution_count": null,
   "metadata": {},
   "outputs": [],
   "source": [
    "# Enter your code here. Read input from STDIN. Print output to STDOUT\n",
    "\n",
    "def can_stack_cubes(n, cubes):\n",
    "    left, right = 0, n-1\n",
    "    prev_max = float('inf')\n",
    "    \n",
    "    while left <= right:\n",
    "        if cubes[left] >= cubes[right]:\n",
    "            current_cube = cubes[left]\n",
    "            left += 1\n",
    "        else:\n",
    "            current_cube = cubes[right]\n",
    "            right -= 1\n",
    "        \n",
    "        if current_cube > prev_max:\n",
    "            return \"No\"\n",
    "        \n",
    "        prev_max = current_cube\n",
    "    \n",
    "    return \"Yes\"\n",
    "\n",
    "\n",
    "# main function\n",
    "if __name__ == \"__main__\":\n",
    "    t = int(input())\n",
    "    \n",
    "    for _ in range(t):\n",
    "        n = int(input())\n",
    "        cubes = list(map(int, input().split()))\n",
    "        \n",
    "        result = can_stack_cubes(n, cubes)\n",
    "        print(result)\n"
   ]
  },
  {
   "attachments": {},
   "cell_type": "markdown",
   "metadata": {},
   "source": [
    "### DefaultDict Tutorial"
   ]
  },
  {
   "attachments": {},
   "cell_type": "markdown",
   "metadata": {},
   "source": [
    "## Date and Time\n",
    "\n",
    "- https://docs.w3cub.com/cheatsheets/strftime"
   ]
  },
  {
   "attachments": {},
   "cell_type": "markdown",
   "metadata": {},
   "source": [
    "### Calendar Module"
   ]
  },
  {
   "cell_type": "code",
   "execution_count": null,
   "metadata": {},
   "outputs": [],
   "source": [
    "# Enter your code here. Read input from STDIN. Print output to STDOUT\n",
    "# #way-1\n",
    "# import calendar\n",
    "# m, d, y = map(int, input().split())\n",
    "# days = {0:'MONDAY',1:'TUESDAY',2:'WEDNESDAY',3:'THURSDAY',4:'FRIDAY',5:'SATURDAY',6:'SUNDAY'}\n",
    "# print( days[calendar.weekday(y,m,d)] )\n",
    "\n",
    "# #way-2\n",
    "import datetime \n",
    "date_time = input()\n",
    "print( datetime.datetime.strptime(date_time,\"%m %d %Y\").strftime('%A').upper() )"
   ]
  },
  {
   "attachments": {},
   "cell_type": "markdown",
   "metadata": {},
   "source": [
    "### Time Delta"
   ]
  },
  {
   "cell_type": "code",
   "execution_count": null,
   "metadata": {},
   "outputs": [],
   "source": [
    "#!/bin/python3\n",
    "import os, sys, random, re, math\n",
    "\n",
    "# Complete the time_delta function below.\n",
    "def time_delta(t1, t2):\n",
    "    # way-1 Using datetime module\n",
    "    from datetime import datetime\n",
    "    a=datetime.strptime(t1,\"%a %d %b %Y %H:%M:%S %z\")\n",
    "    b=datetime.strptime(t2,\"%a %d %b %Y %H:%M:%S %z\")    \n",
    "    # return (str(abs(a-b).total_seconds()).split(\".\")[0])\n",
    "    return str(int(abs((a-b).total_seconds())))\n",
    "\n",
    "    # # way-2 Using dateutil module\n",
    "    # from dateutil.parser import parse\n",
    "    # return(str(abs(round((parse(t1)-parse(t2)).total_seconds()))))\n",
    "\n",
    "\n",
    "if __name__ == '__main__':\n",
    "    fptr = open(os.environ['OUTPUT_PATH'], 'w')\n",
    "    t = int(input())\n",
    "    for t_itr in range(t):\n",
    "        t1, t2 = input(), input()\n",
    "        delta = time_delta(t1, t2)\n",
    "        fptr.write(delta + '\\n')\n",
    "    fptr.close()"
   ]
  },
  {
   "attachments": {},
   "cell_type": "markdown",
   "metadata": {},
   "source": [
    "## Classes"
   ]
  },
  {
   "attachments": {},
   "cell_type": "markdown",
   "metadata": {},
   "source": [
    "### Classes: Dealing with Complex Numbers"
   ]
  },
  {
   "cell_type": "code",
   "execution_count": null,
   "metadata": {},
   "outputs": [],
   "source": []
  },
  {
   "attachments": {},
   "cell_type": "markdown",
   "metadata": {},
   "source": [
    "### Class 2 - Find the Torsional Angle"
   ]
  },
  {
   "cell_type": "code",
   "execution_count": null,
   "metadata": {},
   "outputs": [],
   "source": [
    "import math\n",
    "\n",
    "class Points(object):\n",
    "    # not required\n",
    "    x = y = z = None\n",
    "    def __init__(self, x, y, z):\n",
    "        self.x, self.y, self.z = x, y, z\n",
    "\n",
    "    def __sub__(self, no):\n",
    "        return Points(self.x - no.x, self.y - no.y, self.z - no.z)\n",
    "\n",
    "    def dot(self, no):\n",
    "        return (self.x*no.x)+(self.y*no.y)+(self.z*no.z)\n",
    "        \n",
    "    def cross(self, no):\n",
    "        return Points((self.y*no.z-self.z*no.y), (self.z*no.x-self.x*no.z), (self.x*no.y-self.y*no.x))\n",
    "        \n",
    "    def absolute(self):\n",
    "        return pow((self.x ** 2 + self.y ** 2 + self.z ** 2), 0.5)\n",
    "\n",
    "if __name__ == '__main__':\n",
    "    points = list()\n",
    "    for i in range(4):\n",
    "        a = list(map(float, input().split()))\n",
    "        points.append(a)\n",
    "\n",
    "    a, b, c, d = Points(*points[0]), Points(*points[1]), Points(*points[2]), Points(*points[3])\n",
    "    x = (b - a).cross(c - b)\n",
    "    y = (c - b).cross(d - c)\n",
    "    angle = math.acos(x.dot(y) / (x.absolute() * y.absolute()))\n",
    "\n",
    "    print(\"%.2f\" % math.degrees(angle))"
   ]
  },
  {
   "attachments": {},
   "cell_type": "markdown",
   "metadata": {},
   "source": [
    "## Built-Ins"
   ]
  },
  {
   "attachments": {},
   "cell_type": "markdown",
   "metadata": {},
   "source": [
    "### Zipped!"
   ]
  },
  {
   "cell_type": "code",
   "execution_count": null,
   "metadata": {},
   "outputs": [],
   "source": []
  },
  {
   "attachments": {},
   "cell_type": "markdown",
   "metadata": {},
   "source": [
    "### Input()"
   ]
  },
  {
   "cell_type": "code",
   "execution_count": null,
   "metadata": {},
   "outputs": [],
   "source": [
    "# Enter your code here. Read input from STDIN. Print output to STDOUT\n",
    "x, k = map(int, input().split())\n",
    "print( eval(input()) == k )"
   ]
  },
  {
   "attachments": {},
   "cell_type": "markdown",
   "metadata": {},
   "source": [
    "### Python Evaluation"
   ]
  },
  {
   "cell_type": "code",
   "execution_count": null,
   "metadata": {},
   "outputs": [],
   "source": []
  },
  {
   "attachments": {},
   "cell_type": "markdown",
   "metadata": {},
   "source": [
    "### Athlete Sort"
   ]
  },
  {
   "cell_type": "code",
   "execution_count": null,
   "metadata": {},
   "outputs": [],
   "source": [
    "#!/bin/python3\n",
    "\n",
    "import math\n",
    "import os\n",
    "import random\n",
    "import re\n",
    "import sys\n",
    "\n",
    "\n",
    "if __name__ == '__main__':\n",
    "    first_multiple_input = input().rstrip().split()\n",
    "    n = int(first_multiple_input[0])\n",
    "    m = int(first_multiple_input[1])\n",
    "\n",
    "    arr = []\n",
    "    for _ in range(n):\n",
    "        arr.append(list(map(int, input().rstrip().split())))\n",
    "\n",
    "    k = int(input().strip())    \n",
    "    arr = sorted(arr, key = lambda x: x[k])\n",
    "    \n",
    "    for i in arr:\n",
    "        print(*i)"
   ]
  },
  {
   "attachments": {},
   "cell_type": "markdown",
   "metadata": {},
   "source": [
    "### Any or All"
   ]
  },
  {
   "cell_type": "code",
   "execution_count": null,
   "metadata": {},
   "outputs": [],
   "source": []
  },
  {
   "attachments": {},
   "cell_type": "markdown",
   "metadata": {},
   "source": [
    "### ginortS"
   ]
  },
  {
   "cell_type": "code",
   "execution_count": null,
   "metadata": {},
   "outputs": [],
   "source": [
    "# Enter your code here. Read input from STDIN. Print output to STDOUT\n",
    "import string\n",
    "s = input()\n",
    "\n",
    "s_lower = ''\n",
    "s_upper = ''\n",
    "s_even  = ''\n",
    "s_odd   = ''\n",
    "\n",
    "for i in s:\n",
    "    if i in string.ascii_lowercase:\n",
    "        s_lower += i\n",
    "    elif i in  string.ascii_uppercase:\n",
    "        s_upper += i\n",
    "    elif int(i) % 2 == 0:\n",
    "        s_even += i\n",
    "    elif int(i) % 2:\n",
    "        s_odd += i                \n",
    "    \n",
    "result = ''.join (sorted(s_lower)+sorted(s_upper)+sorted(s_odd)+sorted(s_even))\n",
    "print(result)"
   ]
  },
  {
   "attachments": {},
   "cell_type": "markdown",
   "metadata": {},
   "source": [
    "## Python Functionals"
   ]
  },
  {
   "attachments": {},
   "cell_type": "markdown",
   "metadata": {},
   "source": [
    "### Map and Lambda Function"
   ]
  },
  {
   "cell_type": "code",
   "execution_count": null,
   "metadata": {},
   "outputs": [],
   "source": []
  },
  {
   "attachments": {},
   "cell_type": "markdown",
   "metadata": {},
   "source": [
    "### Validating Email Addresses With a Filter"
   ]
  },
  {
   "cell_type": "code",
   "execution_count": null,
   "metadata": {},
   "outputs": [],
   "source": []
  },
  {
   "attachments": {},
   "cell_type": "markdown",
   "metadata": {},
   "source": [
    "### Reduce Function"
   ]
  },
  {
   "cell_type": "code",
   "execution_count": null,
   "metadata": {},
   "outputs": [],
   "source": []
  }
 ],
 "metadata": {
  "kernelspec": {
   "display_name": "Python 3",
   "language": "python",
   "name": "python3"
  },
  "language_info": {
   "codemirror_mode": {
    "name": "ipython",
    "version": 3
   },
   "file_extension": ".py",
   "mimetype": "text/x-python",
   "name": "python",
   "nbconvert_exporter": "python",
   "pygments_lexer": "ipython3",
   "version": "3.10.4"
  },
  "orig_nbformat": 4
 },
 "nbformat": 4,
 "nbformat_minor": 2
}
