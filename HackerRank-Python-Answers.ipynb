{
 "cells": [
  {
   "attachments": {},
   "cell_type": "markdown",
   "metadata": {},
   "source": [
    "## HackerRank Python"
   ]
  },
  {
   "attachments": {},
   "cell_type": "markdown",
   "metadata": {},
   "source": [
    "### Python: Division "
   ]
  },
  {
   "cell_type": "code",
   "execution_count": null,
   "metadata": {},
   "outputs": [],
   "source": [
    "if __name__ == '__main__':\n",
    "    a = int(input())\n",
    "    b = int(input())\n",
    "    \n",
    "    print(a//b, a/b, sep='\\n')"
   ]
  },
  {
   "attachments": {},
   "cell_type": "markdown",
   "metadata": {},
   "source": [
    "### sWAP cASE"
   ]
  },
  {
   "cell_type": "code",
   "execution_count": null,
   "metadata": {},
   "outputs": [],
   "source": [
    "# sWAP cASE\n",
    "def swap_case(s):    \n",
    "    # return s.swapcase()\n",
    "    # result = [i.upper() if i==i.lower() else i.lower() for i in s]    \n",
    "    # return ''.join(result)\n",
    "\n",
    "    s1 = ''\n",
    "    for i in s:\n",
    "        if i in i.lower():\n",
    "            s1+= i.upper()\n",
    "        else:\n",
    "            s1+= i.lower()\n",
    "    return s1\n",
    "\n",
    "swap_case('''HackerRank.com presents \"Pythonist 2\".''')"
   ]
  },
  {
   "attachments": {},
   "cell_type": "markdown",
   "metadata": {},
   "source": [
    "### What's Your Name?"
   ]
  },
  {
   "cell_type": "code",
   "execution_count": null,
   "metadata": {},
   "outputs": [],
   "source": [
    "# What's Your Name?\n",
    "def print_full_name(first, last):\n",
    "    # Write your code here\n",
    "    print(f'Hello {first} {last}! You just delved into python.')"
   ]
  },
  {
   "attachments": {},
   "cell_type": "markdown",
   "metadata": {},
   "source": [
    "### Mutations"
   ]
  },
  {
   "cell_type": "code",
   "execution_count": null,
   "metadata": {},
   "outputs": [],
   "source": [
    "# Mutations\n",
    "def mutate_string(string, position, character):\n",
    "    arr = [j if i!=position else character for i,j in enumerate(string)]    \n",
    "    return ''.join(arr)"
   ]
  },
  {
   "attachments": {},
   "cell_type": "markdown",
   "metadata": {},
   "source": [
    "### String Validators"
   ]
  },
  {
   "cell_type": "code",
   "execution_count": null,
   "metadata": {},
   "outputs": [],
   "source": [
    "# String Validators\n",
    "if __name__ == '__main__':\n",
    "    s = input()\n",
    "    \n",
    "    print(any(i.isalnum() for i in s))\n",
    "    print(any(i.isalpha() for i in s))\n",
    "    print(any(i.isdigit() for i in s))\n",
    "    print(any(i.islower() for i in s))\n",
    "    print(any(i.isupper() for i in s))"
   ]
  },
  {
   "attachments": {},
   "cell_type": "markdown",
   "metadata": {},
   "source": [
    "## String "
   ]
  },
  {
   "attachments": {},
   "cell_type": "markdown",
   "metadata": {},
   "source": [
    "### Find a string"
   ]
  },
  {
   "cell_type": "code",
   "execution_count": null,
   "metadata": {},
   "outputs": [],
   "source": [
    "def count_substring(string, sub_string):\n",
    "    count = 0\n",
    "    \n",
    "    for i in range(len(string)):        \n",
    "        if string[i::].startswith(sub_string):\n",
    "            count += 1            \n",
    "        \n",
    "    return count"
   ]
  },
  {
   "attachments": {},
   "cell_type": "markdown",
   "metadata": {},
   "source": [
    "### String Formatting"
   ]
  },
  {
   "cell_type": "code",
   "execution_count": null,
   "metadata": {},
   "outputs": [],
   "source": [
    "def print_formatted(number):\n",
    "    # your code goes here        \n",
    "    length = len(f\"{number:b}\")\n",
    "\n",
    "    for i in range(1, number + 1):\n",
    "        # print( f\"{i}\".rjust(length), f\"{i:o}\".rjust(length), f\"{i:X}\".rjust(length), \"{0:b}\".format(i).rjust(length) )\n",
    "        print(\"{0:{w}d} {0:{w}o} {0:{w}X} {0:{w}b}\".format(i, w=length))\n",
    "        \n",
    "if __name__ == '__main__':\n",
    "    n = int(input())\n",
    "    print_formatted(n)"
   ]
  }
 ],
 "metadata": {
  "language_info": {
   "name": "python"
  },
  "orig_nbformat": 4
 },
 "nbformat": 4,
 "nbformat_minor": 2
}
