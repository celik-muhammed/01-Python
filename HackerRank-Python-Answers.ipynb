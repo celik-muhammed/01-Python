{
 "cells": [
  {
   "cell_type": "code",
   "execution_count": null,
   "metadata": {},
   "outputs": [],
   "source": [
    "def swap_case(s):    \n",
    "    # return s.swapcase()\n",
    "    # result = [i.upper() if i==i.lower() else i.lower() for i in s]    \n",
    "    # return ''.join(result)\n",
    "\n",
    "    s1 = ''\n",
    "    for i in s:\n",
    "        if i in i.lower():\n",
    "            s1+= i.upper()\n",
    "        else:\n",
    "            s1+= i.lower()\n",
    "    return s1\n",
    "\n",
    "swap_case('''HackerRank.com presents \"Pythonist 2\".''')"
   ]
  },
  {
   "cell_type": "code",
   "execution_count": null,
   "metadata": {},
   "outputs": [],
   "source": []
  }
 ],
 "metadata": {
  "language_info": {
   "name": "python"
  },
  "orig_nbformat": 4
 },
 "nbformat": 4,
 "nbformat_minor": 2
}
