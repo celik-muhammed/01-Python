{
 "cells": [
  {
   "attachments": {},
   "cell_type": "markdown",
   "metadata": {},
   "source": [
    "## HackerRank Python"
   ]
  },
  {
   "attachments": {},
   "cell_type": "markdown",
   "metadata": {},
   "source": [
    "### Python: Division "
   ]
  },
  {
   "cell_type": "code",
   "execution_count": 1,
   "metadata": {},
   "outputs": [
    {
     "name": "stdout",
     "output_type": "stream",
     "text": [
      "0\n",
      "0.5\n"
     ]
    }
   ],
   "source": [
    "if __name__ == '__main__':\n",
    "    a = int(input())\n",
    "    b = int(input())\n",
    "    \n",
    "    print(a//b, a/b, sep='\\n')"
   ]
  },
  {
   "attachments": {},
   "cell_type": "markdown",
   "metadata": {},
   "source": [
    "### sWAP cASE"
   ]
  },
  {
   "cell_type": "code",
   "execution_count": 2,
   "metadata": {},
   "outputs": [
    {
     "data": {
      "text/plain": [
       "'hACKERrANK.COM PRESENTS \"pYTHONIST 2\".'"
      ]
     },
     "execution_count": 2,
     "metadata": {},
     "output_type": "execute_result"
    }
   ],
   "source": [
    "# sWAP cASE\n",
    "def swap_case(s):    \n",
    "    # return s.swapcase()\n",
    "    # result = [i.upper() if i==i.lower() else i.lower() for i in s]    \n",
    "    # return ''.join(result)\n",
    "\n",
    "    s1 = ''\n",
    "    for i in s:\n",
    "        if i in i.lower():\n",
    "            s1+= i.upper()\n",
    "        else:\n",
    "            s1+= i.lower()\n",
    "    return s1\n",
    "\n",
    "swap_case('''HackerRank.com presents \"Pythonist 2\".''')"
   ]
  },
  {
   "attachments": {},
   "cell_type": "markdown",
   "metadata": {},
   "source": [
    "### What's Your Name?"
   ]
  },
  {
   "cell_type": "code",
   "execution_count": 19,
   "metadata": {},
   "outputs": [
    {
     "name": "stdout",
     "output_type": "stream",
     "text": [
      "Hello Hacker Rank! You just delved into python.\n"
     ]
    }
   ],
   "source": [
    "# Complete the 'print_full_name' function below.\n",
    "#\n",
    "# The function is expected to return a STRING.\n",
    "# The function accepts following parameters:\n",
    "#  1. STRING first\n",
    "#  2. STRING last\n",
    "#\n",
    "\n",
    "def print_full_name(first, last):\n",
    "    # Write your code here\n",
    "    print(f'Hello {first} {last}! You just delved into python.')\n",
    "\n",
    "if __name__ == '__main__':\n",
    "    first_name = input()\n",
    "    last_name = input()\n",
    "    print_full_name(first_name, last_name)"
   ]
  },
  {
   "attachments": {},
   "cell_type": "markdown",
   "metadata": {},
   "source": [
    "### Mutations"
   ]
  },
  {
   "cell_type": "code",
   "execution_count": 21,
   "metadata": {},
   "outputs": [
    {
     "name": "stdout",
     "output_type": "stream",
     "text": [
      "abracadabra\n",
      "abrackdabra\n"
     ]
    }
   ],
   "source": [
    "# Mutations\n",
    "def mutate_string(string, position, character):    \n",
    "    print(string)\n",
    "    arr = [j if i!=position else character for i,j in enumerate(string)]    \n",
    "    return ''.join(arr)\n",
    "\n",
    "\n",
    "if __name__ == '__main__':\n",
    "    s = input()\n",
    "    i, c = input().split()\n",
    "    s_new = mutate_string(s, int(i), c)\n",
    "    print(s_new)"
   ]
  },
  {
   "attachments": {},
   "cell_type": "markdown",
   "metadata": {},
   "source": [
    "### String Validators"
   ]
  },
  {
   "cell_type": "code",
   "execution_count": 5,
   "metadata": {},
   "outputs": [
    {
     "name": "stdout",
     "output_type": "stream",
     "text": [
      "True\n",
      "True\n",
      "True\n",
      "True\n",
      "True\n"
     ]
    }
   ],
   "source": [
    "# String Validators\n",
    "if __name__ == '__main__':\n",
    "    s = input()\n",
    "    \n",
    "    print(any(i.isalnum() for i in s))\n",
    "    print(any(i.isalpha() for i in s))\n",
    "    print(any(i.isdigit() for i in s))\n",
    "    print(any(i.islower() for i in s))\n",
    "    print(any(i.isupper() for i in s))"
   ]
  },
  {
   "attachments": {},
   "cell_type": "markdown",
   "metadata": {},
   "source": [
    "## String "
   ]
  },
  {
   "attachments": {},
   "cell_type": "markdown",
   "metadata": {},
   "source": [
    "### Find a string"
   ]
  },
  {
   "cell_type": "code",
   "execution_count": 22,
   "metadata": {},
   "outputs": [
    {
     "name": "stdout",
     "output_type": "stream",
     "text": [
      "2\n"
     ]
    }
   ],
   "source": [
    "def count_substring(string, sub_string):\n",
    "    count = 0\n",
    "    \n",
    "    for i in range(len(string)):        \n",
    "        if string[i::].startswith(sub_string):\n",
    "            count += 1            \n",
    "        \n",
    "    return count\n",
    "    \n",
    "\n",
    "if __name__ == '__main__':\n",
    "    string = input().strip()\n",
    "    sub_string = input().strip()\n",
    "    \n",
    "    count = count_substring(string, sub_string)\n",
    "    print(count)"
   ]
  },
  {
   "attachments": {},
   "cell_type": "markdown",
   "metadata": {},
   "source": [
    "### String Formatting"
   ]
  },
  {
   "cell_type": "code",
   "execution_count": 10,
   "metadata": {},
   "outputs": [
    {
     "name": "stdout",
     "output_type": "stream",
     "text": [
      "   1    1    1    1\n",
      "   2    2    2   10\n",
      "   3    3    3   11\n",
      "   4    4    4  100\n",
      "   5    5    5  101\n",
      "   6    6    6  110\n",
      "   7    7    7  111\n",
      "   8   10    8 1000\n",
      "   9   11    9 1001\n",
      "  10   12    A 1010\n",
      "  11   13    B 1011\n"
     ]
    }
   ],
   "source": [
    "def print_formatted(number):\n",
    "    # your code goes here        \n",
    "    length = len(f\"{number:b}\")\n",
    "\n",
    "    for i in range(1, number + 1):\n",
    "        # print( f\"{i}\".rjust(length), f\"{i:o}\".rjust(length), f\"{i:X}\".rjust(length), \"{0:b}\".format(i).rjust(length) )\n",
    "        print(\"{0:{w}d} {0:{w}o} {0:{w}X} {0:{w}b}\".format(i, w=length))\n",
    "        \n",
    "if __name__ == '__main__':\n",
    "    n = int(input())\n",
    "    print_formatted(n)"
   ]
  },
  {
   "attachments": {},
   "cell_type": "markdown",
   "metadata": {},
   "source": [
    "### Alphabet Rangoli"
   ]
  },
  {
   "cell_type": "code",
   "execution_count": 11,
   "metadata": {},
   "outputs": [
    {
     "name": "stdout",
     "output_type": "stream",
     "text": [
      "--------e--------\n",
      "------e-d-e------\n",
      "----e-d-c-d-e----\n",
      "--e-d-c-b-c-d-e--\n",
      "e-d-c-b-a-b-c-d-e\n",
      "--e-d-c-b-c-d-e--\n",
      "----e-d-c-d-e----\n",
      "------e-d-e------\n",
      "--------e--------\n"
     ]
    }
   ],
   "source": [
    "def print_rangoli(size):\n",
    "    # define all letters\n",
    "    data  = [chr(ord('a')+i) for i in range(size)]\n",
    "    items = [*range(size)]\n",
    "    items = items[:-1] + items[::-1]\n",
    "    \n",
    "    for i in items:\n",
    "        temp = data[-(i+1):]\n",
    "        row  = temp[::-1] + temp[1:]\n",
    "        print('-'.join(row).center(4*size-3, '-'))    \n",
    "    \n",
    "\n",
    "if __name__ == '__main__':\n",
    "    n = int(input())\n",
    "    print_rangoli(n)"
   ]
  },
  {
   "attachments": {},
   "cell_type": "markdown",
   "metadata": {},
   "source": [
    "### Capitalize!"
   ]
  },
  {
   "cell_type": "code",
   "execution_count": 25,
   "metadata": {},
   "outputs": [
    {
     "name": "stdout",
     "output_type": "stream",
     "text": [
      "Chris Alan\n"
     ]
    }
   ],
   "source": [
    "# Complete the solve function below.\n",
    "def solve(s):\n",
    "    for i in s.split():\n",
    "        s = s.replace(i,i.capitalize())\n",
    "    return s\n",
    "\n",
    "\n",
    "if __name__ == '__main__':\n",
    "    # import os\n",
    "    # fptr = open(os.environ['OUTPUT_PATH'], 'w')\n",
    "    s = input()\n",
    "    result = solve(s)\n",
    "    print(result)\n",
    "    # fptr.write(result + '\\n')\n",
    "    # fptr.close()"
   ]
  },
  {
   "attachments": {},
   "cell_type": "markdown",
   "metadata": {},
   "source": [
    "### The Minion Game"
   ]
  },
  {
   "cell_type": "code",
   "execution_count": 13,
   "metadata": {},
   "outputs": [
    {
     "name": "stdout",
     "output_type": "stream",
     "text": [
      "Stuart 12\n"
     ]
    }
   ],
   "source": [
    "def minion_game(string):\n",
    "    # your code goes here\n",
    "    kevin  = stuart = 0\n",
    "    length = len(string)\n",
    "    vowels = 'AEIOU'\n",
    "    \n",
    "    # Solution-1: Using dictionary of words\n",
    "    # for i, char in enumerate(string):\n",
    "    #     points = length - i\n",
    "    #     if char in vowels:\n",
    "    #         kevin += points\n",
    "    #     else:\n",
    "    #         stuart += points            \n",
    "            \n",
    "    # Solution-2: using if-else statements  \n",
    "    # for i in range(length):\n",
    "    #     points = length - i\n",
    "    #     if string[i] in vowels:\n",
    "    #         kevin  += points\n",
    "    #     else:\n",
    "    #         stuart += points      \n",
    "            \n",
    "    # Solution-3: Using re module\n",
    "    import re  \n",
    "    for i, char in enumerate(string):\n",
    "        points = length - i\n",
    "        if re.match(f'^[{vowels}]', char):\n",
    "            kevin += points\n",
    "                              \n",
    "    stuart = (length*(length+1)//2) - kevin \n",
    "               \n",
    "    \n",
    "    print(\"Draw\") if kevin == stuart else \\\n",
    "    print(*(\"Stuart\", stuart) if stuart > kevin else (\"Kevin\", kevin))\n",
    "    \n",
    "    \n",
    "\n",
    "if __name__ == '__main__':\n",
    "    s = input()\n",
    "    minion_game(s)"
   ]
  },
  {
   "attachments": {},
   "cell_type": "markdown",
   "metadata": {},
   "source": [
    "### Merge the Tools!"
   ]
  },
  {
   "cell_type": "code",
   "execution_count": null,
   "metadata": {},
   "outputs": [],
   "source": [
    "def merge_the_tools(string, k):\n",
    "    # your code goes here\n",
    "    sublist = len(string)//k    \n",
    "    list1 = []\n",
    "    list2 = []  \n",
    "    cur   = ''      \n",
    "    for i in range(sublist):\n",
    "        # way 1\n",
    "        # print(''.join(dict.fromkeys(string[i*k:(i*k)+k])))\n",
    "        \n",
    "        # way 2\n",
    "        # list1.append(string[i*k:(i*k)+k:])\n",
    "        word = string[i*k:(i*k)+k:]\n",
    "    \n",
    "        for letter in word:\n",
    "            if letter not in cur:\n",
    "                cur += letter\n",
    "        list2.append(cur)\n",
    "        cur   = ''\n",
    "        \n",
    "    # print(list1)\n",
    "    print(*list2, sep='\\n')\n",
    "    \n",
    "\n",
    "if __name__ == '__main__':\n",
    "    string, k = input(), int(input())\n",
    "    merge_the_tools(string, k)"
   ]
  },
  {
   "attachments": {},
   "cell_type": "markdown",
   "metadata": {},
   "source": [
    "## Collections"
   ]
  },
  {
   "attachments": {},
   "cell_type": "markdown",
   "metadata": {},
   "source": [
    "### itertools.product()"
   ]
  },
  {
   "cell_type": "code",
   "execution_count": 14,
   "metadata": {},
   "outputs": [
    {
     "name": "stdout",
     "output_type": "stream",
     "text": [
      "(1, 3) (1, 4) (2, 3) (2, 4)\n"
     ]
    }
   ],
   "source": [
    "# Enter your code here. Read input from STDIN. Print output to STDOUT\n",
    "from itertools import product\n",
    "\n",
    "A = list(map(int, input().split()))\n",
    "B = list(map(int, input().split()))\n",
    "\n",
    "print(*product(A, B))\n",
    "# print(*((x,y) for x in A for y in B))"
   ]
  },
  {
   "attachments": {},
   "cell_type": "markdown",
   "metadata": {},
   "source": [
    "### itertools.permutations()"
   ]
  },
  {
   "cell_type": "code",
   "execution_count": 16,
   "metadata": {},
   "outputs": [
    {
     "name": "stdout",
     "output_type": "stream",
     "text": [
      "AC\n",
      "AH\n",
      "AK\n",
      "CA\n",
      "CH\n",
      "CK\n",
      "HA\n",
      "HC\n",
      "HK\n",
      "KA\n",
      "KC\n",
      "KH\n"
     ]
    }
   ],
   "source": [
    "# Enter your code here. Read input from STDIN. Print output to STDOUT\n",
    "from itertools import permutations\n",
    "\n",
    "inp = input().split()\n",
    "msg = inp[0]\n",
    "num = int(inp[1])\n",
    "\n",
    "# print(msg, num)\n",
    "\n",
    "cur    = list(permutations(msg, num))\n",
    "result = sorted(map(''.join, cur))\n",
    "\n",
    "print(*result, sep='\\n')"
   ]
  },
  {
   "attachments": {},
   "cell_type": "markdown",
   "metadata": {},
   "source": [
    "### itertools.combinations()"
   ]
  },
  {
   "cell_type": "code",
   "execution_count": 17,
   "metadata": {},
   "outputs": [
    {
     "name": "stdout",
     "output_type": "stream",
     "text": [
      "A\n",
      "C\n",
      "H\n",
      "K\n",
      "AC\n",
      "AH\n",
      "AK\n",
      "CH\n",
      "CK\n",
      "HK\n"
     ]
    }
   ],
   "source": [
    "# Enter your code here. Read input from STDIN. Print output to STDOUT\n",
    "from itertools import combinations\n",
    "\n",
    "inp = input().split()\n",
    "msg = sorted(inp[0])\n",
    "num = int(inp[1])\n",
    "\n",
    "# print(msg, num)\n",
    "\n",
    "# for i in range(1, num+1):\n",
    "#     for j in combinations(sorted(msg), i):\n",
    "#         print(\"\".join(j))\n",
    "\n",
    "result = []\n",
    "for i in range(num):\n",
    "    cur = list(combinations(msg, i+1))\n",
    "    result.extend(sorted(map(''.join, cur)))\n",
    "        \n",
    "print(*result, sep='\\n')"
   ]
  }
 ],
 "metadata": {
  "kernelspec": {
   "display_name": "Python 3",
   "language": "python",
   "name": "python3"
  },
  "language_info": {
   "codemirror_mode": {
    "name": "ipython",
    "version": 3
   },
   "file_extension": ".py",
   "mimetype": "text/x-python",
   "name": "python",
   "nbconvert_exporter": "python",
   "pygments_lexer": "ipython3",
   "version": "3.10.4"
  },
  "orig_nbformat": 4
 },
 "nbformat": 4,
 "nbformat_minor": 2
}
