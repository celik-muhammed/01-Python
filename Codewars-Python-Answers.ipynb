{
 "cells": [
  {
   "cell_type": "code",
   "execution_count": null,
   "metadata": {},
   "outputs": [],
   "source": [
    "def comp(array1, array2):\n",
    "    import numpy as np\n",
    "    # your code\n",
    "    if array1 is not None and array2 is not None:\n",
    "        cur =   sorted([*map(abs, [*map(int, np.square(array1))]+ array1)])\n",
    "        cur2 =  sorted([*map(abs, [*map(int,   np.sqrt(array2))]+ array2)])\n",
    "        print(*cur)\n",
    "        print(*cur2)\n",
    "\n",
    "        return True if (cur in cur2) or (cur == cur2)  else False\n",
    "    return False"
   ]
  }
 ],
 "metadata": {
  "language_info": {
   "name": "python"
  },
  "orig_nbformat": 4
 },
 "nbformat": 4,
 "nbformat_minor": 2
}
