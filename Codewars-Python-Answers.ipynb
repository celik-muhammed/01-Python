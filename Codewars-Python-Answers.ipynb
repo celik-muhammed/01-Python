{
 "cells": [
  {
   "cell_type": "code",
   "execution_count": 1,
   "metadata": {},
   "outputs": [],
   "source": [
    "# https://www.codewars.com/kata/550498447451fbbd7600041c\n",
    "# Are they the \"same\"?\n",
    "\n",
    "def comp(array1, array2):\n",
    "    import numpy as np\n",
    "    # your code\n",
    "    if array1 is not None and array2 is not None:\n",
    "        cur =   sorted([*map(abs, [*map(int, np.square(array1))]+ array1)])\n",
    "        cur2 =  sorted([*map(abs, [*map(int,   np.sqrt(array2))]+ array2)])\n",
    "        print(*cur)\n",
    "        print(*cur2)\n",
    "\n",
    "        return True if (cur in cur2) or (cur == cur2)  else False\n",
    "    return False"
   ]
  },
  {
   "cell_type": "code",
   "execution_count": null,
   "metadata": {},
   "outputs": [],
   "source": [
    "# https://www.codewars.com/kata/546f922b54af40e1e90001da\n",
    "# Replace With Alphabet Position\n",
    "\n",
    "def alphabet_position(text):\n",
    "    import string\n",
    "    lower = string.ascii_lowercase\n",
    "    \n",
    "    text = [t.lower() for t in text if t.isalpha()]\n",
    "    text = [lower.index(i)+1 for i in text]\n",
    "    return ' '.join(map(str, text)) "
   ]
  },
  {
   "cell_type": "code",
   "execution_count": null,
   "metadata": {},
   "outputs": [],
   "source": [
    "# Valid Parentheses\n",
    "\n",
    "def valid_parentheses(string):\n",
    "    #your code here\n",
    "    \n",
    "    s = ''.join( [i for i in string if i in '()'] )\n",
    "    \n",
    "    while \"()\" in s:\n",
    "        s = s.replace(\"()\", \"\")\n",
    "        \n",
    "    return s == \"\""
   ]
  },
  {
   "cell_type": "code",
   "execution_count": null,
   "metadata": {},
   "outputs": [],
   "source": [
    "# Valid Braces\n",
    "\n",
    "def valid_braces(string):\n",
    "    #your code here\n",
    "    \n",
    "    s = string # ''.join( [i for i in string if i in '()[]{}'] )\n",
    "    \n",
    "    while '()' in s or '[]' in s or '{}' in s:\n",
    "        s = s.replace('()', '').replace('[]', '').replace('{}', '')\n",
    "        \n",
    "    return s == ''"
   ]
  },
  {
   "cell_type": "code",
   "execution_count": null,
   "metadata": {},
   "outputs": [],
   "source": [
    "# Find the unique number\n",
    "\n",
    "def find_uniq(arr):\n",
    "    # your code here    \n",
    "    return [i for i in set(arr) if arr.count(i) == 1].pop()"
   ]
  }
 ],
 "metadata": {
  "kernelspec": {
   "display_name": "Python 3",
   "language": "python",
   "name": "python3"
  },
  "language_info": {
   "codemirror_mode": {
    "name": "ipython",
    "version": 3
   },
   "file_extension": ".py",
   "mimetype": "text/x-python",
   "name": "python",
   "nbconvert_exporter": "python",
   "pygments_lexer": "ipython3",
   "version": "3.10.4"
  },
  "orig_nbformat": 4,
  "vscode": {
   "interpreter": {
    "hash": "3ad933181bd8a04b432d3370b9dc3b0662ad032c4dfaa4e4f1596c548f763858"
   }
  }
 },
 "nbformat": 4,
 "nbformat_minor": 2
}
