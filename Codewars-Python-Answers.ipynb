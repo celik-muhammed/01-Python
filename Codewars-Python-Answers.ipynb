{
 "cells": [
  {
   "cell_type": "code",
   "execution_count": null,
   "metadata": {},
   "outputs": [],
   "source": [
    "# https://www.codewars.com/kata/550498447451fbbd7600041c\n",
    "# Are they the \"same\"?\n",
    "\n",
    "def comp(array1, array2):\n",
    "    import numpy as np\n",
    "    # your code\n",
    "    if array1 is not None and array2 is not None:\n",
    "        cur =   sorted([*map(abs, [*map(int, np.square(array1))]+ array1)])\n",
    "        cur2 =  sorted([*map(abs, [*map(int,   np.sqrt(array2))]+ array2)])\n",
    "        print(*cur)\n",
    "        print(*cur2)\n",
    "\n",
    "        return True if (cur in cur2) or (cur == cur2)  else False\n",
    "    return False"
   ]
  },
  {
   "cell_type": "code",
   "execution_count": null,
   "metadata": {},
   "outputs": [],
   "source": [
    "# https://www.codewars.com/kata/546f922b54af40e1e90001da\n",
    "# Replace With Alphabet Position\n",
    "\n",
    "def alphabet_position(text):\n",
    "    import string\n",
    "    lower = string.ascii_lowercase\n",
    "    \n",
    "    text = [t.lower() for t in text if t.isalpha()]\n",
    "    text = [lower.index(i)+1 for i in text]\n",
    "    return ' '.join(map(str, text)) "
   ]
  }
 ],
 "metadata": {
  "language_info": {
   "name": "python"
  },
  "orig_nbformat": 4
 },
 "nbformat": 4,
 "nbformat_minor": 2
}
