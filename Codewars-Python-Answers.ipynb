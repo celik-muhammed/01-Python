{
 "cells": [
  {
   "attachments": {},
   "cell_type": "markdown",
   "metadata": {},
   "source": [
    "# Kata Training"
   ]
  },
  {
   "attachments": {},
   "cell_type": "markdown",
   "metadata": {},
   "source": [
    "# 8 kyu"
   ]
  },
  {
   "attachments": {},
   "cell_type": "markdown",
   "metadata": {},
   "source": [
    "# 7 kyu"
   ]
  },
  {
   "attachments": {},
   "cell_type": "markdown",
   "metadata": {},
   "source": [
    "# 6 kyu"
   ]
  },
  {
   "attachments": {},
   "cell_type": "markdown",
   "metadata": {},
   "source": [
    "### Are they the \"same\"?"
   ]
  },
  {
   "cell_type": "code",
   "execution_count": null,
   "metadata": {},
   "outputs": [],
   "source": [
    "# https://www.codewars.com/kata/550498447451fbbd7600041c\n",
    "# Are they the \"same\"?\n",
    "\n",
    "def comp(array1, array2):\n",
    "    import numpy as np\n",
    "    # your code\n",
    "    if array1 is not None and array2 is not None:\n",
    "        cur =   sorted([*map(abs, [*map(int, np.square(array1))]+ array1)])\n",
    "        cur2 =  sorted([*map(abs, [*map(int,   np.sqrt(array2))]+ array2)])\n",
    "        print(*cur)\n",
    "        print(*cur2)\n",
    "\n",
    "        return True if (cur in cur2) or (cur == cur2)  else False\n",
    "    return False"
   ]
  },
  {
   "attachments": {},
   "cell_type": "markdown",
   "metadata": {},
   "source": [
    "### Replace With Alphabet Position"
   ]
  },
  {
   "cell_type": "code",
   "execution_count": null,
   "metadata": {},
   "outputs": [],
   "source": [
    "# https://www.codewars.com/kata/546f922b54af40e1e90001da\n",
    "# Replace With Alphabet Position\n",
    "\n",
    "def alphabet_position(text):\n",
    "    import string\n",
    "    lower = string.ascii_lowercase\n",
    "    \n",
    "    text = [t.lower() for t in text if t.isalpha()]\n",
    "    text = [lower.index(i)+1 for i in text]\n",
    "    return ' '.join(map(str, text)) "
   ]
  },
  {
   "attachments": {},
   "cell_type": "markdown",
   "metadata": {},
   "source": [
    "### Find the unique number"
   ]
  },
  {
   "cell_type": "code",
   "execution_count": null,
   "metadata": {},
   "outputs": [],
   "source": [
    "# Find the unique number\n",
    "\n",
    "def find_uniq(arr):\n",
    "    # your code here    \n",
    "    return [i for i in set(arr) if arr.count(i) == 1].pop()"
   ]
  },
  {
   "attachments": {},
   "cell_type": "markdown",
   "metadata": {},
   "source": [
    "### Which are in?"
   ]
  },
  {
   "cell_type": "code",
   "execution_count": null,
   "metadata": {},
   "outputs": [],
   "source": [
    "# Which are in?\n",
    "\n",
    "def in_array(array1, array2):\n",
    "    # your code\n",
    "    list1 = []\n",
    "    for a1 in array1:\n",
    "        for a2 in array2:\n",
    "            if a1 in a2 and a1 not in list1:\n",
    "                list1.append(a1)\n",
    "    return sorted(list1)"
   ]
  },
  {
   "attachments": {},
   "cell_type": "markdown",
   "metadata": {},
   "source": [
    "### Sum of Digits / Digital Root"
   ]
  },
  {
   "cell_type": "code",
   "execution_count": null,
   "metadata": {},
   "outputs": [],
   "source": [
    "# Sum of Digits / Digital Root\n",
    "\n",
    "def digital_root(n):\n",
    "    num = str(n)\n",
    "    \n",
    "    while len(num)>1:\n",
    "        cur = 0\n",
    "        for i in num:\n",
    "            cur += int(i)\n",
    "        num = str(cur)\n",
    "        \n",
    "    return int(num)"
   ]
  },
  {
   "attachments": {},
   "cell_type": "markdown",
   "metadata": {},
   "source": [
    "# 5 kyu "
   ]
  },
  {
   "attachments": {},
   "cell_type": "markdown",
   "metadata": {},
   "source": [
    "### Valid Parentheses"
   ]
  },
  {
   "cell_type": "code",
   "execution_count": null,
   "metadata": {},
   "outputs": [],
   "source": [
    "# Valid Parentheses\n",
    "\n",
    "def valid_parentheses(string):\n",
    "    #your code here\n",
    "    \n",
    "    s = ''.join( [i for i in string if i in '()'] )\n",
    "    \n",
    "    while \"()\" in s:\n",
    "        s = s.replace(\"()\", \"\")\n",
    "        \n",
    "    return s == \"\""
   ]
  },
  {
   "attachments": {},
   "cell_type": "markdown",
   "metadata": {},
   "source": [
    "### Valid Braces"
   ]
  },
  {
   "cell_type": "code",
   "execution_count": null,
   "metadata": {},
   "outputs": [],
   "source": [
    "# Valid Braces\n",
    "\n",
    "def valid_braces(string):\n",
    "    #your code here\n",
    "    \n",
    "    s = string # ''.join( [i for i in string if i in '()[]{}'] )\n",
    "    \n",
    "    while '()' in s or '[]' in s or '{}' in s:\n",
    "        s = s.replace('()', '').replace('[]', '').replace('{}', '')\n",
    "        \n",
    "    return s == ''"
   ]
  },
  {
   "attachments": {},
   "cell_type": "markdown",
   "metadata": {},
   "source": [
    "### String incrementer"
   ]
  },
  {
   "cell_type": "code",
   "execution_count": null,
   "metadata": {},
   "outputs": [],
   "source": [
    "# String incrementer\n",
    "\n",
    "def increment_string(strng):\n",
    "    head = strng.rstrip('0123456789')\n",
    "    tail = strng[len(head):]\n",
    "    if tail == \"\": \n",
    "        return strng+\"1\"\n",
    "    return head + str(int(tail) + 1).zfill(len(tail))"
   ]
  },
  {
   "attachments": {},
   "cell_type": "markdown",
   "metadata": {},
   "source": [
    "### Human Readable Time"
   ]
  },
  {
   "cell_type": "code",
   "execution_count": null,
   "metadata": {},
   "outputs": [],
   "source": [
    "def make_readable(seconds):\n",
    "    from math import floor\n",
    "    h = floor(seconds / 3600);\n",
    "    m = floor((seconds / 60) % 60);\n",
    "    s = seconds % 60;\n",
    "    return f'{str(h).zfill(2)}:{str(m).zfill(2)}:{str(s).zfill(2)}'\n",
    "\n",
    "def make_readable(seconds):\n",
    "    return '{:02}:{:02}:{:02}'.format(seconds // 3600, seconds // 60 % 60, seconds % 60)\n",
    "    \n",
    "def make_readable(seconds):\n",
    "    import datetime as dt\n",
    "    time = dt.datetime.fromtimestamp(seconds).strftime(\"%X\")\n",
    "    day  = int(dt.datetime.fromtimestamp(seconds).strftime(\"%d\"))-1\n",
    "    \n",
    "    if day:\n",
    "        time = str((day*24)+int(time[:2]))+time[2:]\n",
    "    return f'{time}'"
   ]
  },
  {
   "attachments": {},
   "cell_type": "markdown",
   "metadata": {},
   "source": [
    "# 4 kyu"
   ]
  },
  {
   "attachments": {},
   "cell_type": "markdown",
   "metadata": {},
   "source": [
    "# 3 kyu"
   ]
  },
  {
   "attachments": {},
   "cell_type": "markdown",
   "metadata": {},
   "source": [
    "# 2 kyu"
   ]
  },
  {
   "attachments": {},
   "cell_type": "markdown",
   "metadata": {},
   "source": [
    "# 1 kyu"
   ]
  }
 ],
 "metadata": {
  "kernelspec": {
   "display_name": "Python 3",
   "language": "python",
   "name": "python3"
  },
  "language_info": {
   "codemirror_mode": {
    "name": "ipython",
    "version": 3
   },
   "file_extension": ".py",
   "mimetype": "text/x-python",
   "name": "python",
   "nbconvert_exporter": "python",
   "pygments_lexer": "ipython3",
   "version": "3.10.4"
  },
  "orig_nbformat": 4,
  "vscode": {
   "interpreter": {
    "hash": "3ad933181bd8a04b432d3370b9dc3b0662ad032c4dfaa4e4f1596c548f763858"
   }
  }
 },
 "nbformat": 4,
 "nbformat_minor": 2
}
